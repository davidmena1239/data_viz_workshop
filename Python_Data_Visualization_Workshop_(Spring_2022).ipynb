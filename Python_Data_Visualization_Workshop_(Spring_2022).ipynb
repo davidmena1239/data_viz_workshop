{
  "nbformat": 4,
  "nbformat_minor": 0,
  "metadata": {
    "colab": {
      "name": "Python Data Visualization Workshop (Spring 2022)",
      "provenance": [],
      "authorship_tag": "ABX9TyPlzexXiB+nQkKGeSYKWCXU",
      "include_colab_link": true
    },
    "kernelspec": {
      "name": "python3",
      "display_name": "Python 3"
    },
    "language_info": {
      "name": "python"
    }
  },
  "cells": [
    {
      "cell_type": "markdown",
      "metadata": {
        "id": "view-in-github",
        "colab_type": "text"
      },
      "source": [
        "<a href=\"https://colab.research.google.com/github/davidmena1239/data_viz_workshop/blob/main/Python_Data_Visualization_Workshop_(Spring_2022).ipynb\" target=\"_parent\"><img src=\"https://colab.research.google.com/assets/colab-badge.svg\" alt=\"Open In Colab\"/></a>"
      ]
    },
    {
      "cell_type": "markdown",
      "metadata": {
        "id": "gk-PYrhZRm1j"
      },
      "source": [
        "#Lesson 1 - NumPy (Numerical Python)"
      ]
    },
    {
      "cell_type": "code",
      "metadata": {
        "id": "Cu3Jzl2YRkAG"
      },
      "source": [
        "import numpy as np "
      ],
      "execution_count": null,
      "outputs": []
    },
    {
      "cell_type": "code",
      "metadata": {
        "colab": {
          "base_uri": "https://localhost:8080/"
        },
        "id": "XdZQmJ5s4v15",
        "outputId": "799570dc-cb81-4677-f954-cbe09d6d28e8"
      },
      "source": [
        "#Making arrays is simple in Numpy, we just type np.array\n",
        "\n",
        "np.array([1, 2, 3, 4])"
      ],
      "execution_count": null,
      "outputs": [
        {
          "output_type": "execute_result",
          "data": {
            "text/plain": [
              "array([1, 2, 3, 4])"
            ]
          },
          "metadata": {},
          "execution_count": 12
        }
      ]
    },
    {
      "cell_type": "code",
      "metadata": {
        "colab": {
          "base_uri": "https://localhost:8080/"
        },
        "id": "KJT9eNTU4wV1",
        "outputId": "8da5d14d-5b20-4608-a89f-11a97988371d"
      },
      "source": [
        "#We can set it to a variable\n",
        "\n",
        "a = np.array([1, 2, 3, 4])\n",
        "\n",
        "print(type(a))\n",
        "\n",
        "print(a)"
      ],
      "execution_count": null,
      "outputs": [
        {
          "output_type": "stream",
          "name": "stdout",
          "text": [
            "<class 'numpy.ndarray'>\n",
            "[1 2 3 4]\n"
          ]
        }
      ]
    },
    {
      "cell_type": "code",
      "metadata": {
        "colab": {
          "base_uri": "https://localhost:8080/"
        },
        "id": "3DRT0AaR4wYl",
        "outputId": "0e9e4487-1219-40d7-ef09-c3d198c5de66"
      },
      "source": [
        "#We can use indexing and slicing to get elements from it like a list \n",
        "\n",
        "print(a[0])"
      ],
      "execution_count": null,
      "outputs": [
        {
          "output_type": "stream",
          "name": "stdout",
          "text": [
            "1\n"
          ]
        }
      ]
    },
    {
      "cell_type": "code",
      "source": [
        "#Negative indexing\n",
        "\n",
        "print(a[-1])"
      ],
      "metadata": {
        "colab": {
          "base_uri": "https://localhost:8080/"
        },
        "id": "BJt59LhtXz9Y",
        "outputId": "67092c93-9f75-4369-c339-f6a8f67b4792"
      },
      "execution_count": null,
      "outputs": [
        {
          "output_type": "stream",
          "name": "stdout",
          "text": [
            "4\n"
          ]
        }
      ]
    },
    {
      "cell_type": "code",
      "source": [
        "print(a[0], a[1], a[2], a[3])"
      ],
      "metadata": {
        "colab": {
          "base_uri": "https://localhost:8080/"
        },
        "id": "u91jCxDoX4Du",
        "outputId": "945954c2-fe3b-4461-fa1d-98ca3d50ed28"
      },
      "execution_count": null,
      "outputs": [
        {
          "output_type": "stream",
          "name": "stdout",
          "text": [
            "1 2 3 4\n"
          ]
        }
      ]
    },
    {
      "cell_type": "code",
      "source": [
        "#Slicing (remember, slicing retrieves the number before the colon and up to but not including the number after the colon)\n",
        "\n",
        "print(a[1:3])"
      ],
      "metadata": {
        "colab": {
          "base_uri": "https://localhost:8080/"
        },
        "id": "eWNH0CKqX4xf",
        "outputId": "a615da83-6596-4037-a4f9-c2cf3e5bcd53"
      },
      "execution_count": null,
      "outputs": [
        {
          "output_type": "stream",
          "name": "stdout",
          "text": [
            "[2 3]\n"
          ]
        }
      ]
    },
    {
      "cell_type": "code",
      "metadata": {
        "colab": {
          "base_uri": "https://localhost:8080/"
        },
        "id": "NRR0LoJrHIxw",
        "outputId": "ca31c749-a8fd-4906-e573-c5d0a7fe1813"
      },
      "source": [
        "#We can change elements in the array by calling the index position\n",
        "\n",
        "a[1] = 8\n",
        "print(a)"
      ],
      "execution_count": null,
      "outputs": [
        {
          "output_type": "stream",
          "name": "stdout",
          "text": [
            "[1 8 3 4]\n"
          ]
        }
      ]
    },
    {
      "cell_type": "code",
      "metadata": {
        "colab": {
          "base_uri": "https://localhost:8080/"
        },
        "id": "De26LuNW4wbb",
        "outputId": "97098f14-bded-49c2-903e-16720b76af04"
      },
      "source": [
        "#2 dimensional arrays\n",
        "\n",
        "b = np.array([\n",
        "    [1, 2, 3],\n",
        "    [4, 5, 6]\n",
        "])\n",
        "\n",
        "#You can also make a 2D array in this format\n",
        "\n",
        "#b = np.array([[1, 2, 3], [4, 5, 6]])\n",
        "\n",
        "print(b)"
      ],
      "execution_count": null,
      "outputs": [
        {
          "output_type": "stream",
          "name": "stdout",
          "text": [
            "[[1 2 3]\n",
            " [4 5 6]]\n"
          ]
        }
      ]
    },
    {
      "cell_type": "code",
      "metadata": {
        "colab": {
          "base_uri": "https://localhost:8080/"
        },
        "id": "8NCvifCq4wec",
        "outputId": "17f503a9-aef6-4ac2-8b7a-88875d0bdfd0"
      },
      "source": [
        "#The .shape method shows you the number of rows and columns in an array, respectively\n",
        "\n",
        "b.shape"
      ],
      "execution_count": null,
      "outputs": [
        {
          "output_type": "execute_result",
          "data": {
            "text/plain": [
              "(2, 3)"
            ]
          },
          "metadata": {},
          "execution_count": 24
        }
      ]
    },
    {
      "cell_type": "code",
      "metadata": {
        "id": "JSjrtsOV4whZ"
      },
      "source": [
        "#This is a multi dimensional array. We can go through it with index and slicing\n",
        "\n",
        "c = np.array([\n",
        "#.   0. 1. 2\n",
        "    [1, 2, 3], # 0\n",
        "    [4, 5, 6], # 1\n",
        "    [7, 8, 9]  # 2\n",
        "])"
      ],
      "execution_count": null,
      "outputs": []
    },
    {
      "cell_type": "code",
      "metadata": {
        "colab": {
          "base_uri": "https://localhost:8080/"
        },
        "id": "HEe7XRpa4wkE",
        "outputId": "f634c567-b38a-420f-d170-7aee5b188810"
      },
      "source": [
        "#The index goes by rows, then columns. \n",
        "\n",
        "print(c[1]) #will give the row at index 1"
      ],
      "execution_count": null,
      "outputs": [
        {
          "output_type": "stream",
          "name": "stdout",
          "text": [
            "[4 5 6]\n"
          ]
        }
      ]
    },
    {
      "cell_type": "code",
      "metadata": {
        "colab": {
          "base_uri": "https://localhost:8080/"
        },
        "id": "6jIGzv854wm-",
        "outputId": "de657aa3-cda4-44fe-fe94-4b13f87a1be9"
      },
      "source": [
        "print(c[1][0]) #will give us the element from row index 1, column index 0\n",
        "\n",
        "print(c[1, 0]) #Does the same thing as above. "
      ],
      "execution_count": null,
      "outputs": [
        {
          "output_type": "stream",
          "name": "stdout",
          "text": [
            "4\n",
            "4\n"
          ]
        }
      ]
    },
    {
      "cell_type": "code",
      "metadata": {
        "colab": {
          "base_uri": "https://localhost:8080/"
        },
        "id": "0lv0WqjK4wqV",
        "outputId": "ececab36-b0e2-43cd-ac33-1462ff3fdd58"
      },
      "source": [
        "#Slicing lets us get the first 2 rows\n",
        "\n",
        "print(c[0:2])"
      ],
      "execution_count": null,
      "outputs": [
        {
          "output_type": "stream",
          "name": "stdout",
          "text": [
            "[[1 2 3]\n",
            " [4 5 6]]\n"
          ]
        }
      ]
    },
    {
      "cell_type": "code",
      "metadata": {
        "colab": {
          "base_uri": "https://localhost:8080/"
        },
        "id": "R8S-S_ue4wtC",
        "outputId": "ae981834-f274-4716-dd69-157b26541ab8"
      },
      "source": [
        "#We can slice through both dimensions. \n",
        "\n",
        "print(c[:, :2])"
      ],
      "execution_count": null,
      "outputs": [
        {
          "output_type": "stream",
          "name": "stdout",
          "text": [
            "[[1 2]\n",
            " [4 5]\n",
            " [7 8]]\n"
          ]
        }
      ]
    },
    {
      "cell_type": "code",
      "metadata": {
        "colab": {
          "base_uri": "https://localhost:8080/"
        },
        "id": "dt36qT8d4wv5",
        "outputId": "a8c48889-3bb1-4f13-c183-1caabfeeda3f"
      },
      "source": [
        "#can see statistics of an array with numpy\n",
        "\n",
        "a = np.array([1, 2, 3, 4])\n",
        "print(a)\n",
        "\n",
        "print(a.sum())"
      ],
      "execution_count": null,
      "outputs": [
        {
          "output_type": "stream",
          "name": "stdout",
          "text": [
            "[1 2 3 4]\n",
            "10\n"
          ]
        }
      ]
    },
    {
      "cell_type": "code",
      "source": [
        "#will give us the mean of the array\n",
        "\n",
        "print(a.mean())"
      ],
      "metadata": {
        "id": "oKV-RGb7fkvw"
      },
      "execution_count": null,
      "outputs": []
    },
    {
      "cell_type": "code",
      "source": [
        "#will give us the standard deviation of the array\n",
        "\n",
        "print(a.std())"
      ],
      "metadata": {
        "id": "32BLct6lfkqv"
      },
      "execution_count": null,
      "outputs": []
    },
    {
      "cell_type": "code",
      "metadata": {
        "colab": {
          "base_uri": "https://localhost:8080/"
        },
        "id": "M7pmoSmv4wy8",
        "outputId": "489297af-091d-4ad1-b70b-2424480869de"
      },
      "source": [
        "#we can also do it for multi dimensional arrays\n",
        "b = np.array([\n",
        "    [1, 2, 3],\n",
        "    [4, 5, 6],\n",
        "    [7, 8, 9]\n",
        "])\n",
        "\n",
        "print(b)\n",
        "\n",
        "print(b.sum())"
      ],
      "execution_count": null,
      "outputs": [
        {
          "output_type": "stream",
          "name": "stdout",
          "text": [
            "[[1 2 3]\n",
            " [4 5 6]\n",
            " [7 8 9]]\n",
            "45\n"
          ]
        }
      ]
    },
    {
      "cell_type": "code",
      "source": [
        "#Axis = 0 is referring to the columns and axis = 1 refers to the rows\n",
        "\n",
        "#This will give us the sum of each column\n",
        "print(b.sum(axis = 0))"
      ],
      "metadata": {
        "colab": {
          "base_uri": "https://localhost:8080/"
        },
        "id": "9AqoB34VgXEE",
        "outputId": "2a1518f0-0cbc-47a5-ab8a-afeedd441b80"
      },
      "execution_count": null,
      "outputs": [
        {
          "output_type": "stream",
          "name": "stdout",
          "text": [
            "[12 15 18]\n"
          ]
        }
      ]
    },
    {
      "cell_type": "code",
      "source": [
        "#This will give us the sum of each row\n",
        "print(b.sum(axis = 1))"
      ],
      "metadata": {
        "colab": {
          "base_uri": "https://localhost:8080/"
        },
        "id": "TQfROE-Zgfh5",
        "outputId": "3fd442b7-199c-41e3-d146-6330b8f9cbf3"
      },
      "execution_count": null,
      "outputs": [
        {
          "output_type": "stream",
          "name": "stdout",
          "text": [
            "[ 6 15 24]\n"
          ]
        }
      ]
    },
    {
      "cell_type": "markdown",
      "metadata": {
        "id": "g8r9dx78SxZf"
      },
      "source": [
        "#Lesson 2 - Pandas Series"
      ]
    },
    {
      "cell_type": "code",
      "metadata": {
        "id": "Q1o-UWXlSvEI"
      },
      "source": [
        "#People usually import numpy along with pandas because sometimes you will need to create an array using numpy that can then be passed to pandas.\n",
        "\n",
        "import numpy as np\n",
        "import pandas as pd"
      ],
      "execution_count": null,
      "outputs": []
    },
    {
      "cell_type": "code",
      "metadata": {
        "colab": {
          "base_uri": "https://localhost:8080/"
        },
        "id": "VRi83SczZdcP",
        "outputId": "b634d77e-6796-48c6-d046-5f14f3257222"
      },
      "source": [
        "#Pandas series can be made from lists, dictionaries, numbers, or you can just put in the values yourself. For the sake of the tutorial, we'll make our own values. \n",
        "#The S in Series has to be capitalized in order for it to work.\n",
        "\n",
        "ages = pd.Series([33, 12, 20, 43, 27, 8, 55])\n",
        "\n",
        "print(type(ages))\n",
        "\n",
        "print(ages)"
      ],
      "execution_count": null,
      "outputs": [
        {
          "output_type": "stream",
          "name": "stdout",
          "text": [
            "<class 'pandas.core.series.Series'>\n",
            "0    33\n",
            "1    12\n",
            "2    20\n",
            "3    43\n",
            "4    27\n",
            "5     8\n",
            "6    55\n",
            "dtype: int64\n"
          ]
        }
      ]
    },
    {
      "cell_type": "code",
      "metadata": {
        "colab": {
          "base_uri": "https://localhost:8080/"
        },
        "id": "1AvbomDptRok",
        "outputId": "ec56580f-c206-43f0-83ab-29e9d477dd42"
      },
      "source": [
        "#The ages series has no name, but we can change this\n",
        "\n",
        "print(ages.name)"
      ],
      "execution_count": null,
      "outputs": [
        {
          "output_type": "stream",
          "name": "stdout",
          "text": [
            "None\n"
          ]
        }
      ]
    },
    {
      "cell_type": "code",
      "metadata": {
        "colab": {
          "base_uri": "https://localhost:8080/"
        },
        "id": "xe1y04KjZdgC",
        "outputId": "c29ae18d-6daf-4b4b-a578-b73889050704"
      },
      "source": [
        "#We can name the series to make it more specific\n",
        "\n",
        "ages.name = \"Ages of David's family members\"\n",
        "print(ages)"
      ],
      "execution_count": null,
      "outputs": [
        {
          "output_type": "stream",
          "name": "stdout",
          "text": [
            "0    33\n",
            "1    12\n",
            "2    20\n",
            "3    43\n",
            "4    27\n",
            "5     8\n",
            "6    55\n",
            "Name: Ages of David's family members, dtype: int64\n"
          ]
        }
      ]
    },
    {
      "cell_type": "code",
      "metadata": {
        "colab": {
          "base_uri": "https://localhost:8080/"
        },
        "id": "JbMyUeJQU6jl",
        "outputId": "f54cc5cd-9936-4955-af92-0da0651e7468"
      },
      "source": [
        "print(ages.name)"
      ],
      "execution_count": null,
      "outputs": [
        {
          "output_type": "stream",
          "name": "stdout",
          "text": [
            "Ages of David's family members\n"
          ]
        }
      ]
    },
    {
      "cell_type": "code",
      "metadata": {
        "colab": {
          "base_uri": "https://localhost:8080/"
        },
        "id": "szPUh0sEZdmX",
        "outputId": "ab20ae9d-1921-474c-9631-97508b77b746"
      },
      "source": [
        "#We can use functions with Series (some of the functions are the same as the ones we used with NumPy arrays), \n",
        "#some of the functions don't use parenthesis\n",
        "\n",
        "#dtype will return the data type in the series\n",
        "\n",
        "ages.dtype"
      ],
      "execution_count": null,
      "outputs": [
        {
          "output_type": "execute_result",
          "data": {
            "text/plain": [
              "dtype('int64')"
            ]
          },
          "metadata": {},
          "execution_count": 11
        }
      ]
    },
    {
      "cell_type": "code",
      "metadata": {
        "colab": {
          "base_uri": "https://localhost:8080/"
        },
        "id": "Eobo6DpGZdpY",
        "outputId": "2cc455cd-dc0a-4ee5-eb1b-37d0d114204e"
      },
      "source": [
        "ages.shape"
      ],
      "execution_count": null,
      "outputs": [
        {
          "output_type": "execute_result",
          "data": {
            "text/plain": [
              "(7,)"
            ]
          },
          "metadata": {},
          "execution_count": 12
        }
      ]
    },
    {
      "cell_type": "code",
      "metadata": {
        "colab": {
          "base_uri": "https://localhost:8080/"
        },
        "id": "jaPx4GXLZdsL",
        "outputId": "a56f933b-daa2-4e51-ff5d-edf2c5c6e718"
      },
      "source": [
        "#.size returns the number of elements in the series\n",
        "\n",
        "ages.size"
      ],
      "execution_count": null,
      "outputs": [
        {
          "output_type": "execute_result",
          "data": {
            "text/plain": [
              "7"
            ]
          },
          "metadata": {},
          "execution_count": 13
        }
      ]
    },
    {
      "cell_type": "code",
      "metadata": {
        "colab": {
          "base_uri": "https://localhost:8080/"
        },
        "id": "Xsgjivvu99vc",
        "outputId": "c1ba32e8-37f2-419f-fb6b-d8e2b4464a20"
      },
      "source": [
        "#Statistics of the series\n",
        "\n",
        "print(ages.sum())\n",
        "\n",
        "print(ages.mean())\n",
        "\n",
        "print(ages.std())"
      ],
      "execution_count": null,
      "outputs": [
        {
          "output_type": "stream",
          "name": "stdout",
          "text": [
            "198\n",
            "28.285714285714285\n",
            "16.829678999853066\n"
          ]
        }
      ]
    },
    {
      "cell_type": "code",
      "metadata": {
        "colab": {
          "base_uri": "https://localhost:8080/"
        },
        "id": "YwRYmkTcZduy",
        "outputId": "c3391c09-3bc1-4250-c60c-67873ebc79d0"
      },
      "source": [
        "#We can access elements by indexing\n",
        "\n",
        "print(ages[0])"
      ],
      "execution_count": null,
      "outputs": [
        {
          "output_type": "stream",
          "name": "stdout",
          "text": [
            "33\n"
          ]
        }
      ]
    },
    {
      "cell_type": "code",
      "source": [
        "#However, it’s considered good practice to use special index attributes called loc and iloc when indexing with Pandas.\n",
        "\n",
        "print(ages.iloc[6])"
      ],
      "metadata": {
        "colab": {
          "base_uri": "https://localhost:8080/"
        },
        "id": "4AR9TNXD2h1N",
        "outputId": "a9235629-5a49-490e-da54-d264cc29b3f2"
      },
      "execution_count": null,
      "outputs": [
        {
          "output_type": "stream",
          "name": "stdout",
          "text": [
            "55\n"
          ]
        }
      ]
    },
    {
      "cell_type": "code",
      "metadata": {
        "colab": {
          "base_uri": "https://localhost:8080/"
        },
        "id": "vIhT8b7-JWOL",
        "outputId": "130f1450-dd58-4d78-ea3d-75a8b90b95a7"
      },
      "source": [
        "#I put this here as a reference\n",
        "\n",
        "print(ages)"
      ],
      "execution_count": null,
      "outputs": [
        {
          "output_type": "stream",
          "name": "stdout",
          "text": [
            "0    33\n",
            "1    12\n",
            "2    20\n",
            "3    43\n",
            "4    27\n",
            "5     8\n",
            "6    55\n",
            "Name: Ages of David's family members, dtype: int64\n"
          ]
        }
      ]
    },
    {
      "cell_type": "code",
      "metadata": {
        "colab": {
          "base_uri": "https://localhost:8080/"
        },
        "id": "Q50CjpPevAe2",
        "outputId": "89a2258e-63f4-4b6b-cc6d-3886d8961d58"
      },
      "source": [
        "#We can define the index with their own names if we use .index\n",
        "#The new indexes match the values in the series in order. So the first index name you put will match to the first value in the series.\n",
        "\n",
        "ages.index = [\"Ivana\", \"Gabby\", \"Jared\", \"Franklin\", \"Carlie\", \"Max\", \"Josefina\"]\n",
        "\n",
        "print(ages)"
      ],
      "execution_count": null,
      "outputs": [
        {
          "output_type": "stream",
          "name": "stdout",
          "text": [
            "Ivana       33\n",
            "Gabby       12\n",
            "Jared       20\n",
            "Franklin    43\n",
            "Carlie      27\n",
            "Max          8\n",
            "Josefina    55\n",
            "Name: Ages of David's family members, dtype: int64\n"
          ]
        }
      ]
    },
    {
      "cell_type": "code",
      "metadata": {
        "colab": {
          "base_uri": "https://localhost:8080/"
        },
        "id": "kOvU7fBzvAo_",
        "outputId": "a823ab1f-5b02-41fb-f4b1-61e45112485a"
      },
      "source": [
        "#Now we can access the elements with the new indexes by using .loc\n",
        "\n",
        "print(ages.loc[\"Jared\"])"
      ],
      "execution_count": null,
      "outputs": [
        {
          "output_type": "stream",
          "name": "stdout",
          "text": [
            "20\n"
          ]
        }
      ]
    },
    {
      "cell_type": "code",
      "source": [
        "#Another example\n",
        "\n",
        "print(ages.loc[\"Franklin\"])"
      ],
      "metadata": {
        "colab": {
          "base_uri": "https://localhost:8080/"
        },
        "id": "f_TDfdO1C62R",
        "outputId": "c931dcd8-19bb-4f9a-aeb0-b3f99014ca74"
      },
      "execution_count": null,
      "outputs": [
        {
          "output_type": "stream",
          "name": "stdout",
          "text": [
            "43\n"
          ]
        }
      ]
    },
    {
      "cell_type": "code",
      "metadata": {
        "colab": {
          "base_uri": "https://localhost:8080/"
        },
        "id": "j2oDvHLAvAsJ",
        "outputId": "04929bdc-8347-4731-a517-398f73562d29"
      },
      "source": [
        "#We can still use regular indexing to get the elements by sequential position with .iloc\n",
        "\n",
        "print(ages.iloc[2])"
      ],
      "execution_count": null,
      "outputs": [
        {
          "output_type": "stream",
          "name": "stdout",
          "text": [
            "20\n"
          ]
        }
      ]
    },
    {
      "cell_type": "code",
      "source": [
        "#Another example\n",
        "\n",
        "print(ages.iloc[4])"
      ],
      "metadata": {
        "colab": {
          "base_uri": "https://localhost:8080/"
        },
        "id": "wJZGXNJZC-3o",
        "outputId": "02190ddc-f188-4690-aa39-69df6922f057"
      },
      "execution_count": null,
      "outputs": [
        {
          "output_type": "stream",
          "name": "stdout",
          "text": [
            "27\n"
          ]
        }
      ]
    },
    {
      "cell_type": "code",
      "source": [
        "#We can use negative indexing with this too\n",
        "\n",
        "print(ages.iloc[-1])"
      ],
      "metadata": {
        "colab": {
          "base_uri": "https://localhost:8080/"
        },
        "id": "ec23LTTkC-tx",
        "outputId": "448e333b-dfd1-43b2-f6a2-3c32bc0a2f16"
      },
      "execution_count": null,
      "outputs": [
        {
          "output_type": "stream",
          "name": "stdout",
          "text": [
            "55\n"
          ]
        }
      ]
    },
    {
      "cell_type": "code",
      "source": [
        "#Note that if we used negative indexing without .iloc, we'll get an error\n",
        "\n",
        "ages[-1]"
      ],
      "metadata": {
        "colab": {
          "base_uri": "https://localhost:8080/"
        },
        "id": "YkrxtmYwDkzs",
        "outputId": "03d823b9-00d0-48e3-dc98-cb59bf152ccf"
      },
      "execution_count": null,
      "outputs": [
        {
          "output_type": "execute_result",
          "data": {
            "text/plain": [
              "55"
            ]
          },
          "metadata": {},
          "execution_count": 27
        }
      ]
    },
    {
      "cell_type": "code",
      "metadata": {
        "colab": {
          "base_uri": "https://localhost:8080/"
        },
        "id": "1nOfMCpfvA1i",
        "outputId": "dc5e6d7a-5e85-4431-da96-21f5f6c3b715"
      },
      "source": [
        "#Slicing with .iloc works the same as it does in lists and arrays. It will get the values up to but NOT including the value after the colon.\n",
        "\n",
        "print(ages.iloc[0:3])"
      ],
      "execution_count": null,
      "outputs": [
        {
          "output_type": "stream",
          "name": "stdout",
          "text": [
            "Ivana    33\n",
            "Gabby    12\n",
            "Jared    20\n",
            "Name: Ages of David's family members, dtype: int64\n"
          ]
        }
      ]
    },
    {
      "cell_type": "code",
      "metadata": {
        "colab": {
          "base_uri": "https://localhost:8080/"
        },
        "id": "9CKTYNN8vA4n",
        "outputId": "9d52b623-e986-4185-ed4b-36a723924a7e"
      },
      "source": [
        "#Slicing with .loc works the same for the most part. The only difference is that slicing with .loc will get the values up to AND including the value after the colon.\n",
        "\n",
        "print(ages.loc[\"Ivana\":\"Franklin\"])"
      ],
      "execution_count": null,
      "outputs": [
        {
          "output_type": "stream",
          "name": "stdout",
          "text": [
            "Ivana       33\n",
            "Gabby       12\n",
            "Jared       20\n",
            "Franklin    43\n",
            "Name: Ages of David's family members, dtype: int64\n"
          ]
        }
      ]
    },
    {
      "cell_type": "code",
      "metadata": {
        "colab": {
          "base_uri": "https://localhost:8080/"
        },
        "id": "q1XkN3BrBs6b",
        "outputId": "6f1c8f89-0c41-4667-c4af-46281230bb09"
      },
      "source": [
        "#Another example:\n",
        "\n",
        "print(ages.loc[\"Jared\":\"Max\"])"
      ],
      "execution_count": null,
      "outputs": [
        {
          "output_type": "stream",
          "name": "stdout",
          "text": [
            "Jared       20\n",
            "Franklin    43\n",
            "Carlie      27\n",
            "Max          8\n",
            "Name: Ages of David's family members, dtype: int64\n"
          ]
        }
      ]
    },
    {
      "cell_type": "code",
      "metadata": {
        "colab": {
          "base_uri": "https://localhost:8080/"
        },
        "id": "qOR29uFVvA71",
        "outputId": "657373e7-1417-49b4-869e-2013e1739987"
      },
      "source": [
        "#Can change values in a series like in lists\n",
        "\n",
        "ages.loc[\"Jared\"] = 21\n",
        "print(ages)"
      ],
      "execution_count": null,
      "outputs": [
        {
          "output_type": "stream",
          "name": "stdout",
          "text": [
            "Ivana       33\n",
            "Gabby       12\n",
            "Jared       21\n",
            "Franklin    43\n",
            "Carlie      27\n",
            "Max          8\n",
            "Josefina    55\n",
            "Name: Ages of David's family members, dtype: int64\n"
          ]
        }
      ]
    },
    {
      "cell_type": "code",
      "metadata": {
        "colab": {
          "base_uri": "https://localhost:8080/"
        },
        "id": "53EU_ac6vA-x",
        "outputId": "24d4779d-3cc3-4dad-a738-6cf37446ed55"
      },
      "source": [
        "#Another example\n",
        "\n",
        "ages.iloc[-1] = 56\n",
        "print(ages)"
      ],
      "execution_count": null,
      "outputs": [
        {
          "output_type": "stream",
          "name": "stdout",
          "text": [
            "Ivana       33\n",
            "Gabby       12\n",
            "Jared       21\n",
            "Franklin    43\n",
            "Carlie      27\n",
            "Max          8\n",
            "Josefina    56\n",
            "Name: Ages of David's family members, dtype: int64\n"
          ]
        }
      ]
    },
    {
      "cell_type": "markdown",
      "metadata": {
        "id": "b4Ex8KAuG7gr"
      },
      "source": [
        "#Lesson 3 - Pandas Dataframes\n"
      ]
    },
    {
      "cell_type": "code",
      "metadata": {
        "id": "ZU4cGywMGKDG",
        "colab": {
          "resources": {
            "http://localhost:8080/nbextensions/google.colab/files.js": {
              "data": "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",
              "ok": true,
              "headers": [
                [
                  "content-type",
                  "application/javascript"
                ]
              ],
              "status": 200,
              "status_text": ""
            }
          },
          "base_uri": "https://localhost:8080/",
          "height": 72
        },
        "outputId": "89b73270-e93c-4b31-f58e-5bc6f03658e9"
      },
      "source": [
        "#You can download the dataset with this link https://www.kaggle.com/jasminedogu/bachelorettedataset\n",
        "\n",
        "#In google colab, we can use these two lines of code to upload the csv file, this makes it easier to read it using pandas \n",
        "\n",
        "from google.colab import files\n",
        "uploaded = files.upload()"
      ],
      "execution_count": null,
      "outputs": [
        {
          "output_type": "display_data",
          "data": {
            "text/plain": [
              "<IPython.core.display.HTML object>"
            ],
            "text/html": [
              "\n",
              "     <input type=\"file\" id=\"files-0ef66034-24e1-4e66-893f-507f88bfdcd4\" name=\"files[]\" multiple disabled\n",
              "        style=\"border:none\" />\n",
              "     <output id=\"result-0ef66034-24e1-4e66-893f-507f88bfdcd4\">\n",
              "      Upload widget is only available when the cell has been executed in the\n",
              "      current browser session. Please rerun this cell to enable.\n",
              "      </output>\n",
              "      <script src=\"/nbextensions/google.colab/files.js\"></script> "
            ]
          },
          "metadata": {}
        },
        {
          "output_type": "stream",
          "name": "stdout",
          "text": [
            "Saving BacheloretteDSFinal-Dogu.csv to BacheloretteDSFinal-Dogu.csv\n"
          ]
        }
      ]
    },
    {
      "cell_type": "code",
      "metadata": {
        "id": "_cbTd9EYCj2l"
      },
      "source": [
        "#We import the NumPy and Pandas library just as we did for the Pandas Series.\n",
        "#Side note: we only have to import numpy and pandas once at the beginning of the code, I only did it multiple times during this event for educational purposes\n",
        "\n",
        "import numpy as np\n",
        "import pandas as pd"
      ],
      "execution_count": null,
      "outputs": []
    },
    {
      "cell_type": "code",
      "source": [
        "#Using the read_csv() function imports a csv file to a dataframe format.\n",
        "\n",
        "df = pd.read_csv(\"BacheloretteDSFinal-Dogu.csv\")\n",
        "\n",
        "#If we just type 'df', python will give us the entire dataset but won't show a lot of its rows because of the amount of content in the csv file.\n",
        "\n",
        "df"
      ],
      "metadata": {
        "colab": {
          "base_uri": "https://localhost:8080/",
          "height": 467
        },
        "id": "zZpKH32ZPFT_",
        "outputId": "6b755ee7-93e3-40f0-b5fd-64e4e98b7b12"
      },
      "execution_count": null,
      "outputs": [
        {
          "output_type": "execute_result",
          "data": {
            "text/plain": [
              "     Season                  Name  Age                      Hometown  State  \\\n",
              "0        15             Jed Wyatt   25        Sevierville, Tennessee     TN   \n",
              "1        15         Tyler Cameron   26              Jupiter, Florida     FL   \n",
              "2        15           Peter Weber   27  Westlake Village, California     CA   \n",
              "3        15           Luke Parker   24          Gainesville, Georgia     GA   \n",
              "4        15        Garrett Powell   27             Homewood, Alabama     AL   \n",
              "..      ...                   ...  ...                           ...    ...   \n",
              "136      11             David Cox   28              Orlando, Florida     FL   \n",
              "137      11  Joshua \"Josh\" Seiter   27             Chicago, Illinois     IL   \n",
              "138      11           Shawn Evans   31               London, Ontario  Other   \n",
              "139      11           Brady Toops   33                 Wauseon, Ohio     OH   \n",
              "140      11           Ryan McDill   28         Kansas City, Missouri     MO   \n",
              "\n",
              "                          College                 Occupation  Win_Loss  \\\n",
              "0              Belmont University          Singer/Songwriter         1   \n",
              "1                     Wake Forest         General Contractor         0   \n",
              "2               Baylor University                      Pilot         0   \n",
              "3             Faulkner University      Import/Export Manager         0   \n",
              "4    Mississippi State University                   Golf Pro         0   \n",
              "..                            ...                        ...       ...   \n",
              "136                         Other          Real Estate Agent         0   \n",
              "137          Chicago-Kent College  Law Student/Exotic Dancer         0   \n",
              "138                         Other          Amateur Sex Coach         0   \n",
              "139                         Other          Singer/Songwriter         0   \n",
              "140                         Other        Junkyard Specialist         0   \n",
              "\n",
              "     Height (cm) Girlfriend While on the Show? Hair Color Eye Color  \n",
              "0         190.50                           Yes      Brown     Brown  \n",
              "1         187.96                            No      Brown     Green  \n",
              "2         175.25                            No      Brown     Brown  \n",
              "3         175.00                            No     Blonde     Brown  \n",
              "4            NaN                            No      Brown     Green  \n",
              "..           ...                           ...        ...       ...  \n",
              "136          NaN                            No      Brown     Brown  \n",
              "137       187.96                            No      Brown     Brown  \n",
              "138          NaN                            No      Brown     Brown  \n",
              "139       187.96                            No      Brown     Brown  \n",
              "140       190.50                            No      Brown      Blue  \n",
              "\n",
              "[141 rows x 12 columns]"
            ],
            "text/html": [
              "\n",
              "  <div id=\"df-af78b9df-3a00-43a5-bc6f-e08c1c858f51\">\n",
              "    <div class=\"colab-df-container\">\n",
              "      <div>\n",
              "<style scoped>\n",
              "    .dataframe tbody tr th:only-of-type {\n",
              "        vertical-align: middle;\n",
              "    }\n",
              "\n",
              "    .dataframe tbody tr th {\n",
              "        vertical-align: top;\n",
              "    }\n",
              "\n",
              "    .dataframe thead th {\n",
              "        text-align: right;\n",
              "    }\n",
              "</style>\n",
              "<table border=\"1\" class=\"dataframe\">\n",
              "  <thead>\n",
              "    <tr style=\"text-align: right;\">\n",
              "      <th></th>\n",
              "      <th>Season</th>\n",
              "      <th>Name</th>\n",
              "      <th>Age</th>\n",
              "      <th>Hometown</th>\n",
              "      <th>State</th>\n",
              "      <th>College</th>\n",
              "      <th>Occupation</th>\n",
              "      <th>Win_Loss</th>\n",
              "      <th>Height (cm)</th>\n",
              "      <th>Girlfriend While on the Show?</th>\n",
              "      <th>Hair Color</th>\n",
              "      <th>Eye Color</th>\n",
              "    </tr>\n",
              "  </thead>\n",
              "  <tbody>\n",
              "    <tr>\n",
              "      <th>0</th>\n",
              "      <td>15</td>\n",
              "      <td>Jed Wyatt</td>\n",
              "      <td>25</td>\n",
              "      <td>Sevierville, Tennessee</td>\n",
              "      <td>TN</td>\n",
              "      <td>Belmont University</td>\n",
              "      <td>Singer/Songwriter</td>\n",
              "      <td>1</td>\n",
              "      <td>190.50</td>\n",
              "      <td>Yes</td>\n",
              "      <td>Brown</td>\n",
              "      <td>Brown</td>\n",
              "    </tr>\n",
              "    <tr>\n",
              "      <th>1</th>\n",
              "      <td>15</td>\n",
              "      <td>Tyler Cameron</td>\n",
              "      <td>26</td>\n",
              "      <td>Jupiter, Florida</td>\n",
              "      <td>FL</td>\n",
              "      <td>Wake Forest</td>\n",
              "      <td>General Contractor</td>\n",
              "      <td>0</td>\n",
              "      <td>187.96</td>\n",
              "      <td>No</td>\n",
              "      <td>Brown</td>\n",
              "      <td>Green</td>\n",
              "    </tr>\n",
              "    <tr>\n",
              "      <th>2</th>\n",
              "      <td>15</td>\n",
              "      <td>Peter Weber</td>\n",
              "      <td>27</td>\n",
              "      <td>Westlake Village, California</td>\n",
              "      <td>CA</td>\n",
              "      <td>Baylor University</td>\n",
              "      <td>Pilot</td>\n",
              "      <td>0</td>\n",
              "      <td>175.25</td>\n",
              "      <td>No</td>\n",
              "      <td>Brown</td>\n",
              "      <td>Brown</td>\n",
              "    </tr>\n",
              "    <tr>\n",
              "      <th>3</th>\n",
              "      <td>15</td>\n",
              "      <td>Luke Parker</td>\n",
              "      <td>24</td>\n",
              "      <td>Gainesville, Georgia</td>\n",
              "      <td>GA</td>\n",
              "      <td>Faulkner University</td>\n",
              "      <td>Import/Export Manager</td>\n",
              "      <td>0</td>\n",
              "      <td>175.00</td>\n",
              "      <td>No</td>\n",
              "      <td>Blonde</td>\n",
              "      <td>Brown</td>\n",
              "    </tr>\n",
              "    <tr>\n",
              "      <th>4</th>\n",
              "      <td>15</td>\n",
              "      <td>Garrett Powell</td>\n",
              "      <td>27</td>\n",
              "      <td>Homewood, Alabama</td>\n",
              "      <td>AL</td>\n",
              "      <td>Mississippi State University</td>\n",
              "      <td>Golf Pro</td>\n",
              "      <td>0</td>\n",
              "      <td>NaN</td>\n",
              "      <td>No</td>\n",
              "      <td>Brown</td>\n",
              "      <td>Green</td>\n",
              "    </tr>\n",
              "    <tr>\n",
              "      <th>...</th>\n",
              "      <td>...</td>\n",
              "      <td>...</td>\n",
              "      <td>...</td>\n",
              "      <td>...</td>\n",
              "      <td>...</td>\n",
              "      <td>...</td>\n",
              "      <td>...</td>\n",
              "      <td>...</td>\n",
              "      <td>...</td>\n",
              "      <td>...</td>\n",
              "      <td>...</td>\n",
              "      <td>...</td>\n",
              "    </tr>\n",
              "    <tr>\n",
              "      <th>136</th>\n",
              "      <td>11</td>\n",
              "      <td>David Cox</td>\n",
              "      <td>28</td>\n",
              "      <td>Orlando, Florida</td>\n",
              "      <td>FL</td>\n",
              "      <td>Other</td>\n",
              "      <td>Real Estate Agent</td>\n",
              "      <td>0</td>\n",
              "      <td>NaN</td>\n",
              "      <td>No</td>\n",
              "      <td>Brown</td>\n",
              "      <td>Brown</td>\n",
              "    </tr>\n",
              "    <tr>\n",
              "      <th>137</th>\n",
              "      <td>11</td>\n",
              "      <td>Joshua \"Josh\" Seiter</td>\n",
              "      <td>27</td>\n",
              "      <td>Chicago, Illinois</td>\n",
              "      <td>IL</td>\n",
              "      <td>Chicago-Kent College</td>\n",
              "      <td>Law Student/Exotic Dancer</td>\n",
              "      <td>0</td>\n",
              "      <td>187.96</td>\n",
              "      <td>No</td>\n",
              "      <td>Brown</td>\n",
              "      <td>Brown</td>\n",
              "    </tr>\n",
              "    <tr>\n",
              "      <th>138</th>\n",
              "      <td>11</td>\n",
              "      <td>Shawn Evans</td>\n",
              "      <td>31</td>\n",
              "      <td>London, Ontario</td>\n",
              "      <td>Other</td>\n",
              "      <td>Other</td>\n",
              "      <td>Amateur Sex Coach</td>\n",
              "      <td>0</td>\n",
              "      <td>NaN</td>\n",
              "      <td>No</td>\n",
              "      <td>Brown</td>\n",
              "      <td>Brown</td>\n",
              "    </tr>\n",
              "    <tr>\n",
              "      <th>139</th>\n",
              "      <td>11</td>\n",
              "      <td>Brady Toops</td>\n",
              "      <td>33</td>\n",
              "      <td>Wauseon, Ohio</td>\n",
              "      <td>OH</td>\n",
              "      <td>Other</td>\n",
              "      <td>Singer/Songwriter</td>\n",
              "      <td>0</td>\n",
              "      <td>187.96</td>\n",
              "      <td>No</td>\n",
              "      <td>Brown</td>\n",
              "      <td>Brown</td>\n",
              "    </tr>\n",
              "    <tr>\n",
              "      <th>140</th>\n",
              "      <td>11</td>\n",
              "      <td>Ryan McDill</td>\n",
              "      <td>28</td>\n",
              "      <td>Kansas City, Missouri</td>\n",
              "      <td>MO</td>\n",
              "      <td>Other</td>\n",
              "      <td>Junkyard Specialist</td>\n",
              "      <td>0</td>\n",
              "      <td>190.50</td>\n",
              "      <td>No</td>\n",
              "      <td>Brown</td>\n",
              "      <td>Blue</td>\n",
              "    </tr>\n",
              "  </tbody>\n",
              "</table>\n",
              "<p>141 rows × 12 columns</p>\n",
              "</div>\n",
              "      <button class=\"colab-df-convert\" onclick=\"convertToInteractive('df-af78b9df-3a00-43a5-bc6f-e08c1c858f51')\"\n",
              "              title=\"Convert this dataframe to an interactive table.\"\n",
              "              style=\"display:none;\">\n",
              "        \n",
              "  <svg xmlns=\"http://www.w3.org/2000/svg\" height=\"24px\"viewBox=\"0 0 24 24\"\n",
              "       width=\"24px\">\n",
              "    <path d=\"M0 0h24v24H0V0z\" fill=\"none\"/>\n",
              "    <path d=\"M18.56 5.44l.94 2.06.94-2.06 2.06-.94-2.06-.94-.94-2.06-.94 2.06-2.06.94zm-11 1L8.5 8.5l.94-2.06 2.06-.94-2.06-.94L8.5 2.5l-.94 2.06-2.06.94zm10 10l.94 2.06.94-2.06 2.06-.94-2.06-.94-.94-2.06-.94 2.06-2.06.94z\"/><path d=\"M17.41 7.96l-1.37-1.37c-.4-.4-.92-.59-1.43-.59-.52 0-1.04.2-1.43.59L10.3 9.45l-7.72 7.72c-.78.78-.78 2.05 0 2.83L4 21.41c.39.39.9.59 1.41.59.51 0 1.02-.2 1.41-.59l7.78-7.78 2.81-2.81c.8-.78.8-2.07 0-2.86zM5.41 20L4 18.59l7.72-7.72 1.47 1.35L5.41 20z\"/>\n",
              "  </svg>\n",
              "      </button>\n",
              "      \n",
              "  <style>\n",
              "    .colab-df-container {\n",
              "      display:flex;\n",
              "      flex-wrap:wrap;\n",
              "      gap: 12px;\n",
              "    }\n",
              "\n",
              "    .colab-df-convert {\n",
              "      background-color: #E8F0FE;\n",
              "      border: none;\n",
              "      border-radius: 50%;\n",
              "      cursor: pointer;\n",
              "      display: none;\n",
              "      fill: #1967D2;\n",
              "      height: 32px;\n",
              "      padding: 0 0 0 0;\n",
              "      width: 32px;\n",
              "    }\n",
              "\n",
              "    .colab-df-convert:hover {\n",
              "      background-color: #E2EBFA;\n",
              "      box-shadow: 0px 1px 2px rgba(60, 64, 67, 0.3), 0px 1px 3px 1px rgba(60, 64, 67, 0.15);\n",
              "      fill: #174EA6;\n",
              "    }\n",
              "\n",
              "    [theme=dark] .colab-df-convert {\n",
              "      background-color: #3B4455;\n",
              "      fill: #D2E3FC;\n",
              "    }\n",
              "\n",
              "    [theme=dark] .colab-df-convert:hover {\n",
              "      background-color: #434B5C;\n",
              "      box-shadow: 0px 1px 3px 1px rgba(0, 0, 0, 0.15);\n",
              "      filter: drop-shadow(0px 1px 2px rgba(0, 0, 0, 0.3));\n",
              "      fill: #FFFFFF;\n",
              "    }\n",
              "  </style>\n",
              "\n",
              "      <script>\n",
              "        const buttonEl =\n",
              "          document.querySelector('#df-af78b9df-3a00-43a5-bc6f-e08c1c858f51 button.colab-df-convert');\n",
              "        buttonEl.style.display =\n",
              "          google.colab.kernel.accessAllowed ? 'block' : 'none';\n",
              "\n",
              "        async function convertToInteractive(key) {\n",
              "          const element = document.querySelector('#df-af78b9df-3a00-43a5-bc6f-e08c1c858f51');\n",
              "          const dataTable =\n",
              "            await google.colab.kernel.invokeFunction('convertToInteractive',\n",
              "                                                     [key], {});\n",
              "          if (!dataTable) return;\n",
              "\n",
              "          const docLinkHtml = 'Like what you see? Visit the ' +\n",
              "            '<a target=\"_blank\" href=https://colab.research.google.com/notebooks/data_table.ipynb>data table notebook</a>'\n",
              "            + ' to learn more about interactive tables.';\n",
              "          element.innerHTML = '';\n",
              "          dataTable['output_type'] = 'display_data';\n",
              "          await google.colab.output.renderOutput(dataTable, element);\n",
              "          const docLink = document.createElement('div');\n",
              "          docLink.innerHTML = docLinkHtml;\n",
              "          element.appendChild(docLink);\n",
              "        }\n",
              "      </script>\n",
              "    </div>\n",
              "  </div>\n",
              "  "
            ]
          },
          "metadata": {},
          "execution_count": 36
        }
      ]
    },
    {
      "cell_type": "code",
      "metadata": {
        "colab": {
          "base_uri": "https://localhost:8080/",
          "height": 206
        },
        "id": "a2Q6GIf_Cj8T",
        "outputId": "e4cd02db-c1a6-45f5-807c-33ec68b2949f"
      },
      "source": [
        "#The .head() function will grab the first 5 rows from the dataset and display all of their columns and values\n",
        "\n",
        "df.head()"
      ],
      "execution_count": null,
      "outputs": [
        {
          "output_type": "execute_result",
          "data": {
            "text/plain": [
              "   Season            Name  Age                      Hometown State  \\\n",
              "0      15       Jed Wyatt   25        Sevierville, Tennessee    TN   \n",
              "1      15   Tyler Cameron   26              Jupiter, Florida    FL   \n",
              "2      15     Peter Weber   27  Westlake Village, California    CA   \n",
              "3      15     Luke Parker   24          Gainesville, Georgia    GA   \n",
              "4      15  Garrett Powell   27             Homewood, Alabama    AL   \n",
              "\n",
              "                        College             Occupation  Win_Loss  Height (cm)  \\\n",
              "0            Belmont University      Singer/Songwriter         1       190.50   \n",
              "1                   Wake Forest     General Contractor         0       187.96   \n",
              "2             Baylor University                  Pilot         0       175.25   \n",
              "3           Faulkner University  Import/Export Manager         0       175.00   \n",
              "4  Mississippi State University               Golf Pro         0          NaN   \n",
              "\n",
              "  Girlfriend While on the Show? Hair Color Eye Color  \n",
              "0                           Yes      Brown     Brown  \n",
              "1                            No      Brown     Green  \n",
              "2                            No      Brown     Brown  \n",
              "3                            No     Blonde     Brown  \n",
              "4                            No      Brown     Green  "
            ],
            "text/html": [
              "\n",
              "  <div id=\"df-3a2f796b-d0b8-4a6e-906b-43df1ac524c0\">\n",
              "    <div class=\"colab-df-container\">\n",
              "      <div>\n",
              "<style scoped>\n",
              "    .dataframe tbody tr th:only-of-type {\n",
              "        vertical-align: middle;\n",
              "    }\n",
              "\n",
              "    .dataframe tbody tr th {\n",
              "        vertical-align: top;\n",
              "    }\n",
              "\n",
              "    .dataframe thead th {\n",
              "        text-align: right;\n",
              "    }\n",
              "</style>\n",
              "<table border=\"1\" class=\"dataframe\">\n",
              "  <thead>\n",
              "    <tr style=\"text-align: right;\">\n",
              "      <th></th>\n",
              "      <th>Season</th>\n",
              "      <th>Name</th>\n",
              "      <th>Age</th>\n",
              "      <th>Hometown</th>\n",
              "      <th>State</th>\n",
              "      <th>College</th>\n",
              "      <th>Occupation</th>\n",
              "      <th>Win_Loss</th>\n",
              "      <th>Height (cm)</th>\n",
              "      <th>Girlfriend While on the Show?</th>\n",
              "      <th>Hair Color</th>\n",
              "      <th>Eye Color</th>\n",
              "    </tr>\n",
              "  </thead>\n",
              "  <tbody>\n",
              "    <tr>\n",
              "      <th>0</th>\n",
              "      <td>15</td>\n",
              "      <td>Jed Wyatt</td>\n",
              "      <td>25</td>\n",
              "      <td>Sevierville, Tennessee</td>\n",
              "      <td>TN</td>\n",
              "      <td>Belmont University</td>\n",
              "      <td>Singer/Songwriter</td>\n",
              "      <td>1</td>\n",
              "      <td>190.50</td>\n",
              "      <td>Yes</td>\n",
              "      <td>Brown</td>\n",
              "      <td>Brown</td>\n",
              "    </tr>\n",
              "    <tr>\n",
              "      <th>1</th>\n",
              "      <td>15</td>\n",
              "      <td>Tyler Cameron</td>\n",
              "      <td>26</td>\n",
              "      <td>Jupiter, Florida</td>\n",
              "      <td>FL</td>\n",
              "      <td>Wake Forest</td>\n",
              "      <td>General Contractor</td>\n",
              "      <td>0</td>\n",
              "      <td>187.96</td>\n",
              "      <td>No</td>\n",
              "      <td>Brown</td>\n",
              "      <td>Green</td>\n",
              "    </tr>\n",
              "    <tr>\n",
              "      <th>2</th>\n",
              "      <td>15</td>\n",
              "      <td>Peter Weber</td>\n",
              "      <td>27</td>\n",
              "      <td>Westlake Village, California</td>\n",
              "      <td>CA</td>\n",
              "      <td>Baylor University</td>\n",
              "      <td>Pilot</td>\n",
              "      <td>0</td>\n",
              "      <td>175.25</td>\n",
              "      <td>No</td>\n",
              "      <td>Brown</td>\n",
              "      <td>Brown</td>\n",
              "    </tr>\n",
              "    <tr>\n",
              "      <th>3</th>\n",
              "      <td>15</td>\n",
              "      <td>Luke Parker</td>\n",
              "      <td>24</td>\n",
              "      <td>Gainesville, Georgia</td>\n",
              "      <td>GA</td>\n",
              "      <td>Faulkner University</td>\n",
              "      <td>Import/Export Manager</td>\n",
              "      <td>0</td>\n",
              "      <td>175.00</td>\n",
              "      <td>No</td>\n",
              "      <td>Blonde</td>\n",
              "      <td>Brown</td>\n",
              "    </tr>\n",
              "    <tr>\n",
              "      <th>4</th>\n",
              "      <td>15</td>\n",
              "      <td>Garrett Powell</td>\n",
              "      <td>27</td>\n",
              "      <td>Homewood, Alabama</td>\n",
              "      <td>AL</td>\n",
              "      <td>Mississippi State University</td>\n",
              "      <td>Golf Pro</td>\n",
              "      <td>0</td>\n",
              "      <td>NaN</td>\n",
              "      <td>No</td>\n",
              "      <td>Brown</td>\n",
              "      <td>Green</td>\n",
              "    </tr>\n",
              "  </tbody>\n",
              "</table>\n",
              "</div>\n",
              "      <button class=\"colab-df-convert\" onclick=\"convertToInteractive('df-3a2f796b-d0b8-4a6e-906b-43df1ac524c0')\"\n",
              "              title=\"Convert this dataframe to an interactive table.\"\n",
              "              style=\"display:none;\">\n",
              "        \n",
              "  <svg xmlns=\"http://www.w3.org/2000/svg\" height=\"24px\"viewBox=\"0 0 24 24\"\n",
              "       width=\"24px\">\n",
              "    <path d=\"M0 0h24v24H0V0z\" fill=\"none\"/>\n",
              "    <path d=\"M18.56 5.44l.94 2.06.94-2.06 2.06-.94-2.06-.94-.94-2.06-.94 2.06-2.06.94zm-11 1L8.5 8.5l.94-2.06 2.06-.94-2.06-.94L8.5 2.5l-.94 2.06-2.06.94zm10 10l.94 2.06.94-2.06 2.06-.94-2.06-.94-.94-2.06-.94 2.06-2.06.94z\"/><path d=\"M17.41 7.96l-1.37-1.37c-.4-.4-.92-.59-1.43-.59-.52 0-1.04.2-1.43.59L10.3 9.45l-7.72 7.72c-.78.78-.78 2.05 0 2.83L4 21.41c.39.39.9.59 1.41.59.51 0 1.02-.2 1.41-.59l7.78-7.78 2.81-2.81c.8-.78.8-2.07 0-2.86zM5.41 20L4 18.59l7.72-7.72 1.47 1.35L5.41 20z\"/>\n",
              "  </svg>\n",
              "      </button>\n",
              "      \n",
              "  <style>\n",
              "    .colab-df-container {\n",
              "      display:flex;\n",
              "      flex-wrap:wrap;\n",
              "      gap: 12px;\n",
              "    }\n",
              "\n",
              "    .colab-df-convert {\n",
              "      background-color: #E8F0FE;\n",
              "      border: none;\n",
              "      border-radius: 50%;\n",
              "      cursor: pointer;\n",
              "      display: none;\n",
              "      fill: #1967D2;\n",
              "      height: 32px;\n",
              "      padding: 0 0 0 0;\n",
              "      width: 32px;\n",
              "    }\n",
              "\n",
              "    .colab-df-convert:hover {\n",
              "      background-color: #E2EBFA;\n",
              "      box-shadow: 0px 1px 2px rgba(60, 64, 67, 0.3), 0px 1px 3px 1px rgba(60, 64, 67, 0.15);\n",
              "      fill: #174EA6;\n",
              "    }\n",
              "\n",
              "    [theme=dark] .colab-df-convert {\n",
              "      background-color: #3B4455;\n",
              "      fill: #D2E3FC;\n",
              "    }\n",
              "\n",
              "    [theme=dark] .colab-df-convert:hover {\n",
              "      background-color: #434B5C;\n",
              "      box-shadow: 0px 1px 3px 1px rgba(0, 0, 0, 0.15);\n",
              "      filter: drop-shadow(0px 1px 2px rgba(0, 0, 0, 0.3));\n",
              "      fill: #FFFFFF;\n",
              "    }\n",
              "  </style>\n",
              "\n",
              "      <script>\n",
              "        const buttonEl =\n",
              "          document.querySelector('#df-3a2f796b-d0b8-4a6e-906b-43df1ac524c0 button.colab-df-convert');\n",
              "        buttonEl.style.display =\n",
              "          google.colab.kernel.accessAllowed ? 'block' : 'none';\n",
              "\n",
              "        async function convertToInteractive(key) {\n",
              "          const element = document.querySelector('#df-3a2f796b-d0b8-4a6e-906b-43df1ac524c0');\n",
              "          const dataTable =\n",
              "            await google.colab.kernel.invokeFunction('convertToInteractive',\n",
              "                                                     [key], {});\n",
              "          if (!dataTable) return;\n",
              "\n",
              "          const docLinkHtml = 'Like what you see? Visit the ' +\n",
              "            '<a target=\"_blank\" href=https://colab.research.google.com/notebooks/data_table.ipynb>data table notebook</a>'\n",
              "            + ' to learn more about interactive tables.';\n",
              "          element.innerHTML = '';\n",
              "          dataTable['output_type'] = 'display_data';\n",
              "          await google.colab.output.renderOutput(dataTable, element);\n",
              "          const docLink = document.createElement('div');\n",
              "          docLink.innerHTML = docLinkHtml;\n",
              "          element.appendChild(docLink);\n",
              "        }\n",
              "      </script>\n",
              "    </div>\n",
              "  </div>\n",
              "  "
            ]
          },
          "metadata": {},
          "execution_count": 38
        }
      ]
    },
    {
      "cell_type": "code",
      "metadata": {
        "colab": {
          "base_uri": "https://localhost:8080/",
          "height": 362
        },
        "id": "nHR8yiDXCkE2",
        "outputId": "af56a1c6-569f-4849-b546-e5eadad379b5"
      },
      "source": [
        "#We can get more than just the first 5 rows by specifying the amount as an argument\n",
        "\n",
        "df.head(10)"
      ],
      "execution_count": null,
      "outputs": [
        {
          "output_type": "execute_result",
          "data": {
            "text/plain": [
              "   Season             Name  Age                      Hometown State  \\\n",
              "0      15        Jed Wyatt   25        Sevierville, Tennessee    TN   \n",
              "1      15    Tyler Cameron   26              Jupiter, Florida    FL   \n",
              "2      15      Peter Weber   27  Westlake Village, California    CA   \n",
              "3      15      Luke Parker   24          Gainesville, Georgia    GA   \n",
              "4      15   Garrett Powell   27             Homewood, Alabama    AL   \n",
              "5      15     Mike Johnson   31            San Antonio, Texas    TX   \n",
              "6      15     Connor Saeli   24          Birmingham, Michigan    MI   \n",
              "7      15  Dustin Kendrick   30             Chicago, Illinois    IL   \n",
              "8      15    Dylan Barbour   24         San Diego, California    CA   \n",
              "9      15     Devin Harris   27      Sherman Oaks, California    CA   \n",
              "\n",
              "                             College             Occupation  Win_Loss  \\\n",
              "0                 Belmont University      Singer/Songwriter         1   \n",
              "1                        Wake Forest     General Contractor         0   \n",
              "2                  Baylor University                  Pilot         0   \n",
              "3                Faulkner University  Import/Export Manager         0   \n",
              "4       Mississippi State University               Golf Pro         0   \n",
              "5                                NaN      Portfolio Manager         0   \n",
              "6       Souther Methodist University     Investment Analyst         0   \n",
              "7  Northeastern Illionois University     Real Estate Broker         0   \n",
              "8                   Williams College     Tech Entrepreneur          0   \n",
              "9            University of San Diego         Talent Manager         0   \n",
              "\n",
              "   Height (cm) Girlfriend While on the Show? Hair Color Eye Color  \n",
              "0       190.50                           Yes      Brown     Brown  \n",
              "1       187.96                            No      Brown     Green  \n",
              "2       175.25                            No      Brown     Brown  \n",
              "3       175.00                            No     Blonde     Brown  \n",
              "4          NaN                            No      Brown     Green  \n",
              "5       180.00                            No      Brown     Brown  \n",
              "6       198.00                            No      Brown     Brown  \n",
              "7       188.00                            No      Brown     Brown  \n",
              "8       180.30                            No      Brown     Brown  \n",
              "9          NaN                            No      Brown     Brown  "
            ],
            "text/html": [
              "\n",
              "  <div id=\"df-9caaf7fc-8624-4517-ae6a-533c31f49266\">\n",
              "    <div class=\"colab-df-container\">\n",
              "      <div>\n",
              "<style scoped>\n",
              "    .dataframe tbody tr th:only-of-type {\n",
              "        vertical-align: middle;\n",
              "    }\n",
              "\n",
              "    .dataframe tbody tr th {\n",
              "        vertical-align: top;\n",
              "    }\n",
              "\n",
              "    .dataframe thead th {\n",
              "        text-align: right;\n",
              "    }\n",
              "</style>\n",
              "<table border=\"1\" class=\"dataframe\">\n",
              "  <thead>\n",
              "    <tr style=\"text-align: right;\">\n",
              "      <th></th>\n",
              "      <th>Season</th>\n",
              "      <th>Name</th>\n",
              "      <th>Age</th>\n",
              "      <th>Hometown</th>\n",
              "      <th>State</th>\n",
              "      <th>College</th>\n",
              "      <th>Occupation</th>\n",
              "      <th>Win_Loss</th>\n",
              "      <th>Height (cm)</th>\n",
              "      <th>Girlfriend While on the Show?</th>\n",
              "      <th>Hair Color</th>\n",
              "      <th>Eye Color</th>\n",
              "    </tr>\n",
              "  </thead>\n",
              "  <tbody>\n",
              "    <tr>\n",
              "      <th>0</th>\n",
              "      <td>15</td>\n",
              "      <td>Jed Wyatt</td>\n",
              "      <td>25</td>\n",
              "      <td>Sevierville, Tennessee</td>\n",
              "      <td>TN</td>\n",
              "      <td>Belmont University</td>\n",
              "      <td>Singer/Songwriter</td>\n",
              "      <td>1</td>\n",
              "      <td>190.50</td>\n",
              "      <td>Yes</td>\n",
              "      <td>Brown</td>\n",
              "      <td>Brown</td>\n",
              "    </tr>\n",
              "    <tr>\n",
              "      <th>1</th>\n",
              "      <td>15</td>\n",
              "      <td>Tyler Cameron</td>\n",
              "      <td>26</td>\n",
              "      <td>Jupiter, Florida</td>\n",
              "      <td>FL</td>\n",
              "      <td>Wake Forest</td>\n",
              "      <td>General Contractor</td>\n",
              "      <td>0</td>\n",
              "      <td>187.96</td>\n",
              "      <td>No</td>\n",
              "      <td>Brown</td>\n",
              "      <td>Green</td>\n",
              "    </tr>\n",
              "    <tr>\n",
              "      <th>2</th>\n",
              "      <td>15</td>\n",
              "      <td>Peter Weber</td>\n",
              "      <td>27</td>\n",
              "      <td>Westlake Village, California</td>\n",
              "      <td>CA</td>\n",
              "      <td>Baylor University</td>\n",
              "      <td>Pilot</td>\n",
              "      <td>0</td>\n",
              "      <td>175.25</td>\n",
              "      <td>No</td>\n",
              "      <td>Brown</td>\n",
              "      <td>Brown</td>\n",
              "    </tr>\n",
              "    <tr>\n",
              "      <th>3</th>\n",
              "      <td>15</td>\n",
              "      <td>Luke Parker</td>\n",
              "      <td>24</td>\n",
              "      <td>Gainesville, Georgia</td>\n",
              "      <td>GA</td>\n",
              "      <td>Faulkner University</td>\n",
              "      <td>Import/Export Manager</td>\n",
              "      <td>0</td>\n",
              "      <td>175.00</td>\n",
              "      <td>No</td>\n",
              "      <td>Blonde</td>\n",
              "      <td>Brown</td>\n",
              "    </tr>\n",
              "    <tr>\n",
              "      <th>4</th>\n",
              "      <td>15</td>\n",
              "      <td>Garrett Powell</td>\n",
              "      <td>27</td>\n",
              "      <td>Homewood, Alabama</td>\n",
              "      <td>AL</td>\n",
              "      <td>Mississippi State University</td>\n",
              "      <td>Golf Pro</td>\n",
              "      <td>0</td>\n",
              "      <td>NaN</td>\n",
              "      <td>No</td>\n",
              "      <td>Brown</td>\n",
              "      <td>Green</td>\n",
              "    </tr>\n",
              "    <tr>\n",
              "      <th>5</th>\n",
              "      <td>15</td>\n",
              "      <td>Mike Johnson</td>\n",
              "      <td>31</td>\n",
              "      <td>San Antonio, Texas</td>\n",
              "      <td>TX</td>\n",
              "      <td>NaN</td>\n",
              "      <td>Portfolio Manager</td>\n",
              "      <td>0</td>\n",
              "      <td>180.00</td>\n",
              "      <td>No</td>\n",
              "      <td>Brown</td>\n",
              "      <td>Brown</td>\n",
              "    </tr>\n",
              "    <tr>\n",
              "      <th>6</th>\n",
              "      <td>15</td>\n",
              "      <td>Connor Saeli</td>\n",
              "      <td>24</td>\n",
              "      <td>Birmingham, Michigan</td>\n",
              "      <td>MI</td>\n",
              "      <td>Souther Methodist University</td>\n",
              "      <td>Investment Analyst</td>\n",
              "      <td>0</td>\n",
              "      <td>198.00</td>\n",
              "      <td>No</td>\n",
              "      <td>Brown</td>\n",
              "      <td>Brown</td>\n",
              "    </tr>\n",
              "    <tr>\n",
              "      <th>7</th>\n",
              "      <td>15</td>\n",
              "      <td>Dustin Kendrick</td>\n",
              "      <td>30</td>\n",
              "      <td>Chicago, Illinois</td>\n",
              "      <td>IL</td>\n",
              "      <td>Northeastern Illionois University</td>\n",
              "      <td>Real Estate Broker</td>\n",
              "      <td>0</td>\n",
              "      <td>188.00</td>\n",
              "      <td>No</td>\n",
              "      <td>Brown</td>\n",
              "      <td>Brown</td>\n",
              "    </tr>\n",
              "    <tr>\n",
              "      <th>8</th>\n",
              "      <td>15</td>\n",
              "      <td>Dylan Barbour</td>\n",
              "      <td>24</td>\n",
              "      <td>San Diego, California</td>\n",
              "      <td>CA</td>\n",
              "      <td>Williams College</td>\n",
              "      <td>Tech Entrepreneur</td>\n",
              "      <td>0</td>\n",
              "      <td>180.30</td>\n",
              "      <td>No</td>\n",
              "      <td>Brown</td>\n",
              "      <td>Brown</td>\n",
              "    </tr>\n",
              "    <tr>\n",
              "      <th>9</th>\n",
              "      <td>15</td>\n",
              "      <td>Devin Harris</td>\n",
              "      <td>27</td>\n",
              "      <td>Sherman Oaks, California</td>\n",
              "      <td>CA</td>\n",
              "      <td>University of San Diego</td>\n",
              "      <td>Talent Manager</td>\n",
              "      <td>0</td>\n",
              "      <td>NaN</td>\n",
              "      <td>No</td>\n",
              "      <td>Brown</td>\n",
              "      <td>Brown</td>\n",
              "    </tr>\n",
              "  </tbody>\n",
              "</table>\n",
              "</div>\n",
              "      <button class=\"colab-df-convert\" onclick=\"convertToInteractive('df-9caaf7fc-8624-4517-ae6a-533c31f49266')\"\n",
              "              title=\"Convert this dataframe to an interactive table.\"\n",
              "              style=\"display:none;\">\n",
              "        \n",
              "  <svg xmlns=\"http://www.w3.org/2000/svg\" height=\"24px\"viewBox=\"0 0 24 24\"\n",
              "       width=\"24px\">\n",
              "    <path d=\"M0 0h24v24H0V0z\" fill=\"none\"/>\n",
              "    <path d=\"M18.56 5.44l.94 2.06.94-2.06 2.06-.94-2.06-.94-.94-2.06-.94 2.06-2.06.94zm-11 1L8.5 8.5l.94-2.06 2.06-.94-2.06-.94L8.5 2.5l-.94 2.06-2.06.94zm10 10l.94 2.06.94-2.06 2.06-.94-2.06-.94-.94-2.06-.94 2.06-2.06.94z\"/><path d=\"M17.41 7.96l-1.37-1.37c-.4-.4-.92-.59-1.43-.59-.52 0-1.04.2-1.43.59L10.3 9.45l-7.72 7.72c-.78.78-.78 2.05 0 2.83L4 21.41c.39.39.9.59 1.41.59.51 0 1.02-.2 1.41-.59l7.78-7.78 2.81-2.81c.8-.78.8-2.07 0-2.86zM5.41 20L4 18.59l7.72-7.72 1.47 1.35L5.41 20z\"/>\n",
              "  </svg>\n",
              "      </button>\n",
              "      \n",
              "  <style>\n",
              "    .colab-df-container {\n",
              "      display:flex;\n",
              "      flex-wrap:wrap;\n",
              "      gap: 12px;\n",
              "    }\n",
              "\n",
              "    .colab-df-convert {\n",
              "      background-color: #E8F0FE;\n",
              "      border: none;\n",
              "      border-radius: 50%;\n",
              "      cursor: pointer;\n",
              "      display: none;\n",
              "      fill: #1967D2;\n",
              "      height: 32px;\n",
              "      padding: 0 0 0 0;\n",
              "      width: 32px;\n",
              "    }\n",
              "\n",
              "    .colab-df-convert:hover {\n",
              "      background-color: #E2EBFA;\n",
              "      box-shadow: 0px 1px 2px rgba(60, 64, 67, 0.3), 0px 1px 3px 1px rgba(60, 64, 67, 0.15);\n",
              "      fill: #174EA6;\n",
              "    }\n",
              "\n",
              "    [theme=dark] .colab-df-convert {\n",
              "      background-color: #3B4455;\n",
              "      fill: #D2E3FC;\n",
              "    }\n",
              "\n",
              "    [theme=dark] .colab-df-convert:hover {\n",
              "      background-color: #434B5C;\n",
              "      box-shadow: 0px 1px 3px 1px rgba(0, 0, 0, 0.15);\n",
              "      filter: drop-shadow(0px 1px 2px rgba(0, 0, 0, 0.3));\n",
              "      fill: #FFFFFF;\n",
              "    }\n",
              "  </style>\n",
              "\n",
              "      <script>\n",
              "        const buttonEl =\n",
              "          document.querySelector('#df-9caaf7fc-8624-4517-ae6a-533c31f49266 button.colab-df-convert');\n",
              "        buttonEl.style.display =\n",
              "          google.colab.kernel.accessAllowed ? 'block' : 'none';\n",
              "\n",
              "        async function convertToInteractive(key) {\n",
              "          const element = document.querySelector('#df-9caaf7fc-8624-4517-ae6a-533c31f49266');\n",
              "          const dataTable =\n",
              "            await google.colab.kernel.invokeFunction('convertToInteractive',\n",
              "                                                     [key], {});\n",
              "          if (!dataTable) return;\n",
              "\n",
              "          const docLinkHtml = 'Like what you see? Visit the ' +\n",
              "            '<a target=\"_blank\" href=https://colab.research.google.com/notebooks/data_table.ipynb>data table notebook</a>'\n",
              "            + ' to learn more about interactive tables.';\n",
              "          element.innerHTML = '';\n",
              "          dataTable['output_type'] = 'display_data';\n",
              "          await google.colab.output.renderOutput(dataTable, element);\n",
              "          const docLink = document.createElement('div');\n",
              "          docLink.innerHTML = docLinkHtml;\n",
              "          element.appendChild(docLink);\n",
              "        }\n",
              "      </script>\n",
              "    </div>\n",
              "  </div>\n",
              "  "
            ]
          },
          "metadata": {},
          "execution_count": 41
        }
      ]
    },
    {
      "cell_type": "code",
      "metadata": {
        "colab": {
          "base_uri": "https://localhost:8080/",
          "height": 206
        },
        "id": "1vDIGKCuCj_Y",
        "outputId": "1c17a29e-7a11-4d9b-be9d-03677160e4ed"
      },
      "source": [
        "#.tail basically does the opposite of .head() by giving us the last 5 rows in a datset\n",
        "\n",
        "df.tail()"
      ],
      "execution_count": null,
      "outputs": [
        {
          "output_type": "execute_result",
          "data": {
            "text/plain": [
              "     Season                  Name  Age               Hometown  State  \\\n",
              "136      11             David Cox   28       Orlando, Florida     FL   \n",
              "137      11  Joshua \"Josh\" Seiter   27      Chicago, Illinois     IL   \n",
              "138      11           Shawn Evans   31        London, Ontario  Other   \n",
              "139      11           Brady Toops   33          Wauseon, Ohio     OH   \n",
              "140      11           Ryan McDill   28  Kansas City, Missouri     MO   \n",
              "\n",
              "                  College                 Occupation  Win_Loss  Height (cm)  \\\n",
              "136                 Other          Real Estate Agent         0          NaN   \n",
              "137  Chicago-Kent College  Law Student/Exotic Dancer         0       187.96   \n",
              "138                 Other          Amateur Sex Coach         0          NaN   \n",
              "139                 Other          Singer/Songwriter         0       187.96   \n",
              "140                 Other        Junkyard Specialist         0       190.50   \n",
              "\n",
              "    Girlfriend While on the Show? Hair Color Eye Color  \n",
              "136                            No      Brown     Brown  \n",
              "137                            No      Brown     Brown  \n",
              "138                            No      Brown     Brown  \n",
              "139                            No      Brown     Brown  \n",
              "140                            No      Brown      Blue  "
            ],
            "text/html": [
              "\n",
              "  <div id=\"df-2bf41b4e-7c45-4115-9024-3db7dc9333ec\">\n",
              "    <div class=\"colab-df-container\">\n",
              "      <div>\n",
              "<style scoped>\n",
              "    .dataframe tbody tr th:only-of-type {\n",
              "        vertical-align: middle;\n",
              "    }\n",
              "\n",
              "    .dataframe tbody tr th {\n",
              "        vertical-align: top;\n",
              "    }\n",
              "\n",
              "    .dataframe thead th {\n",
              "        text-align: right;\n",
              "    }\n",
              "</style>\n",
              "<table border=\"1\" class=\"dataframe\">\n",
              "  <thead>\n",
              "    <tr style=\"text-align: right;\">\n",
              "      <th></th>\n",
              "      <th>Season</th>\n",
              "      <th>Name</th>\n",
              "      <th>Age</th>\n",
              "      <th>Hometown</th>\n",
              "      <th>State</th>\n",
              "      <th>College</th>\n",
              "      <th>Occupation</th>\n",
              "      <th>Win_Loss</th>\n",
              "      <th>Height (cm)</th>\n",
              "      <th>Girlfriend While on the Show?</th>\n",
              "      <th>Hair Color</th>\n",
              "      <th>Eye Color</th>\n",
              "    </tr>\n",
              "  </thead>\n",
              "  <tbody>\n",
              "    <tr>\n",
              "      <th>136</th>\n",
              "      <td>11</td>\n",
              "      <td>David Cox</td>\n",
              "      <td>28</td>\n",
              "      <td>Orlando, Florida</td>\n",
              "      <td>FL</td>\n",
              "      <td>Other</td>\n",
              "      <td>Real Estate Agent</td>\n",
              "      <td>0</td>\n",
              "      <td>NaN</td>\n",
              "      <td>No</td>\n",
              "      <td>Brown</td>\n",
              "      <td>Brown</td>\n",
              "    </tr>\n",
              "    <tr>\n",
              "      <th>137</th>\n",
              "      <td>11</td>\n",
              "      <td>Joshua \"Josh\" Seiter</td>\n",
              "      <td>27</td>\n",
              "      <td>Chicago, Illinois</td>\n",
              "      <td>IL</td>\n",
              "      <td>Chicago-Kent College</td>\n",
              "      <td>Law Student/Exotic Dancer</td>\n",
              "      <td>0</td>\n",
              "      <td>187.96</td>\n",
              "      <td>No</td>\n",
              "      <td>Brown</td>\n",
              "      <td>Brown</td>\n",
              "    </tr>\n",
              "    <tr>\n",
              "      <th>138</th>\n",
              "      <td>11</td>\n",
              "      <td>Shawn Evans</td>\n",
              "      <td>31</td>\n",
              "      <td>London, Ontario</td>\n",
              "      <td>Other</td>\n",
              "      <td>Other</td>\n",
              "      <td>Amateur Sex Coach</td>\n",
              "      <td>0</td>\n",
              "      <td>NaN</td>\n",
              "      <td>No</td>\n",
              "      <td>Brown</td>\n",
              "      <td>Brown</td>\n",
              "    </tr>\n",
              "    <tr>\n",
              "      <th>139</th>\n",
              "      <td>11</td>\n",
              "      <td>Brady Toops</td>\n",
              "      <td>33</td>\n",
              "      <td>Wauseon, Ohio</td>\n",
              "      <td>OH</td>\n",
              "      <td>Other</td>\n",
              "      <td>Singer/Songwriter</td>\n",
              "      <td>0</td>\n",
              "      <td>187.96</td>\n",
              "      <td>No</td>\n",
              "      <td>Brown</td>\n",
              "      <td>Brown</td>\n",
              "    </tr>\n",
              "    <tr>\n",
              "      <th>140</th>\n",
              "      <td>11</td>\n",
              "      <td>Ryan McDill</td>\n",
              "      <td>28</td>\n",
              "      <td>Kansas City, Missouri</td>\n",
              "      <td>MO</td>\n",
              "      <td>Other</td>\n",
              "      <td>Junkyard Specialist</td>\n",
              "      <td>0</td>\n",
              "      <td>190.50</td>\n",
              "      <td>No</td>\n",
              "      <td>Brown</td>\n",
              "      <td>Blue</td>\n",
              "    </tr>\n",
              "  </tbody>\n",
              "</table>\n",
              "</div>\n",
              "      <button class=\"colab-df-convert\" onclick=\"convertToInteractive('df-2bf41b4e-7c45-4115-9024-3db7dc9333ec')\"\n",
              "              title=\"Convert this dataframe to an interactive table.\"\n",
              "              style=\"display:none;\">\n",
              "        \n",
              "  <svg xmlns=\"http://www.w3.org/2000/svg\" height=\"24px\"viewBox=\"0 0 24 24\"\n",
              "       width=\"24px\">\n",
              "    <path d=\"M0 0h24v24H0V0z\" fill=\"none\"/>\n",
              "    <path d=\"M18.56 5.44l.94 2.06.94-2.06 2.06-.94-2.06-.94-.94-2.06-.94 2.06-2.06.94zm-11 1L8.5 8.5l.94-2.06 2.06-.94-2.06-.94L8.5 2.5l-.94 2.06-2.06.94zm10 10l.94 2.06.94-2.06 2.06-.94-2.06-.94-.94-2.06-.94 2.06-2.06.94z\"/><path d=\"M17.41 7.96l-1.37-1.37c-.4-.4-.92-.59-1.43-.59-.52 0-1.04.2-1.43.59L10.3 9.45l-7.72 7.72c-.78.78-.78 2.05 0 2.83L4 21.41c.39.39.9.59 1.41.59.51 0 1.02-.2 1.41-.59l7.78-7.78 2.81-2.81c.8-.78.8-2.07 0-2.86zM5.41 20L4 18.59l7.72-7.72 1.47 1.35L5.41 20z\"/>\n",
              "  </svg>\n",
              "      </button>\n",
              "      \n",
              "  <style>\n",
              "    .colab-df-container {\n",
              "      display:flex;\n",
              "      flex-wrap:wrap;\n",
              "      gap: 12px;\n",
              "    }\n",
              "\n",
              "    .colab-df-convert {\n",
              "      background-color: #E8F0FE;\n",
              "      border: none;\n",
              "      border-radius: 50%;\n",
              "      cursor: pointer;\n",
              "      display: none;\n",
              "      fill: #1967D2;\n",
              "      height: 32px;\n",
              "      padding: 0 0 0 0;\n",
              "      width: 32px;\n",
              "    }\n",
              "\n",
              "    .colab-df-convert:hover {\n",
              "      background-color: #E2EBFA;\n",
              "      box-shadow: 0px 1px 2px rgba(60, 64, 67, 0.3), 0px 1px 3px 1px rgba(60, 64, 67, 0.15);\n",
              "      fill: #174EA6;\n",
              "    }\n",
              "\n",
              "    [theme=dark] .colab-df-convert {\n",
              "      background-color: #3B4455;\n",
              "      fill: #D2E3FC;\n",
              "    }\n",
              "\n",
              "    [theme=dark] .colab-df-convert:hover {\n",
              "      background-color: #434B5C;\n",
              "      box-shadow: 0px 1px 3px 1px rgba(0, 0, 0, 0.15);\n",
              "      filter: drop-shadow(0px 1px 2px rgba(0, 0, 0, 0.3));\n",
              "      fill: #FFFFFF;\n",
              "    }\n",
              "  </style>\n",
              "\n",
              "      <script>\n",
              "        const buttonEl =\n",
              "          document.querySelector('#df-2bf41b4e-7c45-4115-9024-3db7dc9333ec button.colab-df-convert');\n",
              "        buttonEl.style.display =\n",
              "          google.colab.kernel.accessAllowed ? 'block' : 'none';\n",
              "\n",
              "        async function convertToInteractive(key) {\n",
              "          const element = document.querySelector('#df-2bf41b4e-7c45-4115-9024-3db7dc9333ec');\n",
              "          const dataTable =\n",
              "            await google.colab.kernel.invokeFunction('convertToInteractive',\n",
              "                                                     [key], {});\n",
              "          if (!dataTable) return;\n",
              "\n",
              "          const docLinkHtml = 'Like what you see? Visit the ' +\n",
              "            '<a target=\"_blank\" href=https://colab.research.google.com/notebooks/data_table.ipynb>data table notebook</a>'\n",
              "            + ' to learn more about interactive tables.';\n",
              "          element.innerHTML = '';\n",
              "          dataTable['output_type'] = 'display_data';\n",
              "          await google.colab.output.renderOutput(dataTable, element);\n",
              "          const docLink = document.createElement('div');\n",
              "          docLink.innerHTML = docLinkHtml;\n",
              "          element.appendChild(docLink);\n",
              "        }\n",
              "      </script>\n",
              "    </div>\n",
              "  </div>\n",
              "  "
            ]
          },
          "metadata": {},
          "execution_count": 42
        }
      ]
    },
    {
      "cell_type": "code",
      "metadata": {
        "colab": {
          "base_uri": "https://localhost:8080/",
          "height": 407
        },
        "id": "vFuPbGEyCkHx",
        "outputId": "14495ff9-40ed-4fab-802d-1fd54b2557a8"
      },
      "source": [
        "#We can get more than 5 rows the same way we did for .head()\n",
        "\n",
        "df.tail(10)"
      ],
      "execution_count": null,
      "outputs": [
        {
          "output_type": "execute_result",
          "data": {
            "text/plain": [
              "     Season                   Name  Age                       Hometown  State  \\\n",
              "131      11  Anthony \"Tony\" Harris   35            St. Louis, Missouri     MO   \n",
              "132      11            Cory Shivar   35  Seven Springs, North Carolina     NC   \n",
              "133      11          Daniel Finney   28           Nashville, Tennessee     TN   \n",
              "134      11            Kupah James   32          Boston, Massachusetts     MA   \n",
              "135      11            Bradley Cox   25                Duluth, Georgia     GA   \n",
              "136      11              David Cox   28               Orlando, Florida     FL   \n",
              "137      11   Joshua \"Josh\" Seiter   27              Chicago, Illinois     IL   \n",
              "138      11            Shawn Evans   31                London, Ontario  Other   \n",
              "139      11            Brady Toops   33                  Wauseon, Ohio     OH   \n",
              "140      11            Ryan McDill   28          Kansas City, Missouri     MO   \n",
              "\n",
              "                  College                  Occupation  Win_Loss  Height (cm)  \\\n",
              "131                 Other                      Healer         0       187.96   \n",
              "132                 Other       Residential Developer         0       182.88   \n",
              "133                 Other            Fashion Designer         0       190.50   \n",
              "134         Curry College                Entrepreneur         0       182.88   \n",
              "135                 Other  International Auto Shipper         0       187.96   \n",
              "136                 Other           Real Estate Agent         0          NaN   \n",
              "137  Chicago-Kent College   Law Student/Exotic Dancer         0       187.96   \n",
              "138                 Other           Amateur Sex Coach         0          NaN   \n",
              "139                 Other           Singer/Songwriter         0       187.96   \n",
              "140                 Other         Junkyard Specialist         0       190.50   \n",
              "\n",
              "    Girlfriend While on the Show? Hair Color Eye Color  \n",
              "131                            No      Brown     Green  \n",
              "132                            No      Brown     Brown  \n",
              "133                            No      Brown      Blue  \n",
              "134                            No      Brown     Brown  \n",
              "135                            No      Brown     Brown  \n",
              "136                            No      Brown     Brown  \n",
              "137                            No      Brown     Brown  \n",
              "138                            No      Brown     Brown  \n",
              "139                            No      Brown     Brown  \n",
              "140                            No      Brown      Blue  "
            ],
            "text/html": [
              "\n",
              "  <div id=\"df-954b70b6-aa26-4613-90f2-e45b774ecb5e\">\n",
              "    <div class=\"colab-df-container\">\n",
              "      <div>\n",
              "<style scoped>\n",
              "    .dataframe tbody tr th:only-of-type {\n",
              "        vertical-align: middle;\n",
              "    }\n",
              "\n",
              "    .dataframe tbody tr th {\n",
              "        vertical-align: top;\n",
              "    }\n",
              "\n",
              "    .dataframe thead th {\n",
              "        text-align: right;\n",
              "    }\n",
              "</style>\n",
              "<table border=\"1\" class=\"dataframe\">\n",
              "  <thead>\n",
              "    <tr style=\"text-align: right;\">\n",
              "      <th></th>\n",
              "      <th>Season</th>\n",
              "      <th>Name</th>\n",
              "      <th>Age</th>\n",
              "      <th>Hometown</th>\n",
              "      <th>State</th>\n",
              "      <th>College</th>\n",
              "      <th>Occupation</th>\n",
              "      <th>Win_Loss</th>\n",
              "      <th>Height (cm)</th>\n",
              "      <th>Girlfriend While on the Show?</th>\n",
              "      <th>Hair Color</th>\n",
              "      <th>Eye Color</th>\n",
              "    </tr>\n",
              "  </thead>\n",
              "  <tbody>\n",
              "    <tr>\n",
              "      <th>131</th>\n",
              "      <td>11</td>\n",
              "      <td>Anthony \"Tony\" Harris</td>\n",
              "      <td>35</td>\n",
              "      <td>St. Louis, Missouri</td>\n",
              "      <td>MO</td>\n",
              "      <td>Other</td>\n",
              "      <td>Healer</td>\n",
              "      <td>0</td>\n",
              "      <td>187.96</td>\n",
              "      <td>No</td>\n",
              "      <td>Brown</td>\n",
              "      <td>Green</td>\n",
              "    </tr>\n",
              "    <tr>\n",
              "      <th>132</th>\n",
              "      <td>11</td>\n",
              "      <td>Cory Shivar</td>\n",
              "      <td>35</td>\n",
              "      <td>Seven Springs, North Carolina</td>\n",
              "      <td>NC</td>\n",
              "      <td>Other</td>\n",
              "      <td>Residential Developer</td>\n",
              "      <td>0</td>\n",
              "      <td>182.88</td>\n",
              "      <td>No</td>\n",
              "      <td>Brown</td>\n",
              "      <td>Brown</td>\n",
              "    </tr>\n",
              "    <tr>\n",
              "      <th>133</th>\n",
              "      <td>11</td>\n",
              "      <td>Daniel Finney</td>\n",
              "      <td>28</td>\n",
              "      <td>Nashville, Tennessee</td>\n",
              "      <td>TN</td>\n",
              "      <td>Other</td>\n",
              "      <td>Fashion Designer</td>\n",
              "      <td>0</td>\n",
              "      <td>190.50</td>\n",
              "      <td>No</td>\n",
              "      <td>Brown</td>\n",
              "      <td>Blue</td>\n",
              "    </tr>\n",
              "    <tr>\n",
              "      <th>134</th>\n",
              "      <td>11</td>\n",
              "      <td>Kupah James</td>\n",
              "      <td>32</td>\n",
              "      <td>Boston, Massachusetts</td>\n",
              "      <td>MA</td>\n",
              "      <td>Curry College</td>\n",
              "      <td>Entrepreneur</td>\n",
              "      <td>0</td>\n",
              "      <td>182.88</td>\n",
              "      <td>No</td>\n",
              "      <td>Brown</td>\n",
              "      <td>Brown</td>\n",
              "    </tr>\n",
              "    <tr>\n",
              "      <th>135</th>\n",
              "      <td>11</td>\n",
              "      <td>Bradley Cox</td>\n",
              "      <td>25</td>\n",
              "      <td>Duluth, Georgia</td>\n",
              "      <td>GA</td>\n",
              "      <td>Other</td>\n",
              "      <td>International Auto Shipper</td>\n",
              "      <td>0</td>\n",
              "      <td>187.96</td>\n",
              "      <td>No</td>\n",
              "      <td>Brown</td>\n",
              "      <td>Brown</td>\n",
              "    </tr>\n",
              "    <tr>\n",
              "      <th>136</th>\n",
              "      <td>11</td>\n",
              "      <td>David Cox</td>\n",
              "      <td>28</td>\n",
              "      <td>Orlando, Florida</td>\n",
              "      <td>FL</td>\n",
              "      <td>Other</td>\n",
              "      <td>Real Estate Agent</td>\n",
              "      <td>0</td>\n",
              "      <td>NaN</td>\n",
              "      <td>No</td>\n",
              "      <td>Brown</td>\n",
              "      <td>Brown</td>\n",
              "    </tr>\n",
              "    <tr>\n",
              "      <th>137</th>\n",
              "      <td>11</td>\n",
              "      <td>Joshua \"Josh\" Seiter</td>\n",
              "      <td>27</td>\n",
              "      <td>Chicago, Illinois</td>\n",
              "      <td>IL</td>\n",
              "      <td>Chicago-Kent College</td>\n",
              "      <td>Law Student/Exotic Dancer</td>\n",
              "      <td>0</td>\n",
              "      <td>187.96</td>\n",
              "      <td>No</td>\n",
              "      <td>Brown</td>\n",
              "      <td>Brown</td>\n",
              "    </tr>\n",
              "    <tr>\n",
              "      <th>138</th>\n",
              "      <td>11</td>\n",
              "      <td>Shawn Evans</td>\n",
              "      <td>31</td>\n",
              "      <td>London, Ontario</td>\n",
              "      <td>Other</td>\n",
              "      <td>Other</td>\n",
              "      <td>Amateur Sex Coach</td>\n",
              "      <td>0</td>\n",
              "      <td>NaN</td>\n",
              "      <td>No</td>\n",
              "      <td>Brown</td>\n",
              "      <td>Brown</td>\n",
              "    </tr>\n",
              "    <tr>\n",
              "      <th>139</th>\n",
              "      <td>11</td>\n",
              "      <td>Brady Toops</td>\n",
              "      <td>33</td>\n",
              "      <td>Wauseon, Ohio</td>\n",
              "      <td>OH</td>\n",
              "      <td>Other</td>\n",
              "      <td>Singer/Songwriter</td>\n",
              "      <td>0</td>\n",
              "      <td>187.96</td>\n",
              "      <td>No</td>\n",
              "      <td>Brown</td>\n",
              "      <td>Brown</td>\n",
              "    </tr>\n",
              "    <tr>\n",
              "      <th>140</th>\n",
              "      <td>11</td>\n",
              "      <td>Ryan McDill</td>\n",
              "      <td>28</td>\n",
              "      <td>Kansas City, Missouri</td>\n",
              "      <td>MO</td>\n",
              "      <td>Other</td>\n",
              "      <td>Junkyard Specialist</td>\n",
              "      <td>0</td>\n",
              "      <td>190.50</td>\n",
              "      <td>No</td>\n",
              "      <td>Brown</td>\n",
              "      <td>Blue</td>\n",
              "    </tr>\n",
              "  </tbody>\n",
              "</table>\n",
              "</div>\n",
              "      <button class=\"colab-df-convert\" onclick=\"convertToInteractive('df-954b70b6-aa26-4613-90f2-e45b774ecb5e')\"\n",
              "              title=\"Convert this dataframe to an interactive table.\"\n",
              "              style=\"display:none;\">\n",
              "        \n",
              "  <svg xmlns=\"http://www.w3.org/2000/svg\" height=\"24px\"viewBox=\"0 0 24 24\"\n",
              "       width=\"24px\">\n",
              "    <path d=\"M0 0h24v24H0V0z\" fill=\"none\"/>\n",
              "    <path d=\"M18.56 5.44l.94 2.06.94-2.06 2.06-.94-2.06-.94-.94-2.06-.94 2.06-2.06.94zm-11 1L8.5 8.5l.94-2.06 2.06-.94-2.06-.94L8.5 2.5l-.94 2.06-2.06.94zm10 10l.94 2.06.94-2.06 2.06-.94-2.06-.94-.94-2.06-.94 2.06-2.06.94z\"/><path d=\"M17.41 7.96l-1.37-1.37c-.4-.4-.92-.59-1.43-.59-.52 0-1.04.2-1.43.59L10.3 9.45l-7.72 7.72c-.78.78-.78 2.05 0 2.83L4 21.41c.39.39.9.59 1.41.59.51 0 1.02-.2 1.41-.59l7.78-7.78 2.81-2.81c.8-.78.8-2.07 0-2.86zM5.41 20L4 18.59l7.72-7.72 1.47 1.35L5.41 20z\"/>\n",
              "  </svg>\n",
              "      </button>\n",
              "      \n",
              "  <style>\n",
              "    .colab-df-container {\n",
              "      display:flex;\n",
              "      flex-wrap:wrap;\n",
              "      gap: 12px;\n",
              "    }\n",
              "\n",
              "    .colab-df-convert {\n",
              "      background-color: #E8F0FE;\n",
              "      border: none;\n",
              "      border-radius: 50%;\n",
              "      cursor: pointer;\n",
              "      display: none;\n",
              "      fill: #1967D2;\n",
              "      height: 32px;\n",
              "      padding: 0 0 0 0;\n",
              "      width: 32px;\n",
              "    }\n",
              "\n",
              "    .colab-df-convert:hover {\n",
              "      background-color: #E2EBFA;\n",
              "      box-shadow: 0px 1px 2px rgba(60, 64, 67, 0.3), 0px 1px 3px 1px rgba(60, 64, 67, 0.15);\n",
              "      fill: #174EA6;\n",
              "    }\n",
              "\n",
              "    [theme=dark] .colab-df-convert {\n",
              "      background-color: #3B4455;\n",
              "      fill: #D2E3FC;\n",
              "    }\n",
              "\n",
              "    [theme=dark] .colab-df-convert:hover {\n",
              "      background-color: #434B5C;\n",
              "      box-shadow: 0px 1px 3px 1px rgba(0, 0, 0, 0.15);\n",
              "      filter: drop-shadow(0px 1px 2px rgba(0, 0, 0, 0.3));\n",
              "      fill: #FFFFFF;\n",
              "    }\n",
              "  </style>\n",
              "\n",
              "      <script>\n",
              "        const buttonEl =\n",
              "          document.querySelector('#df-954b70b6-aa26-4613-90f2-e45b774ecb5e button.colab-df-convert');\n",
              "        buttonEl.style.display =\n",
              "          google.colab.kernel.accessAllowed ? 'block' : 'none';\n",
              "\n",
              "        async function convertToInteractive(key) {\n",
              "          const element = document.querySelector('#df-954b70b6-aa26-4613-90f2-e45b774ecb5e');\n",
              "          const dataTable =\n",
              "            await google.colab.kernel.invokeFunction('convertToInteractive',\n",
              "                                                     [key], {});\n",
              "          if (!dataTable) return;\n",
              "\n",
              "          const docLinkHtml = 'Like what you see? Visit the ' +\n",
              "            '<a target=\"_blank\" href=https://colab.research.google.com/notebooks/data_table.ipynb>data table notebook</a>'\n",
              "            + ' to learn more about interactive tables.';\n",
              "          element.innerHTML = '';\n",
              "          dataTable['output_type'] = 'display_data';\n",
              "          await google.colab.output.renderOutput(dataTable, element);\n",
              "          const docLink = document.createElement('div');\n",
              "          docLink.innerHTML = docLinkHtml;\n",
              "          element.appendChild(docLink);\n",
              "        }\n",
              "      </script>\n",
              "    </div>\n",
              "  </div>\n",
              "  "
            ]
          },
          "metadata": {},
          "execution_count": 45
        }
      ]
    },
    {
      "cell_type": "code",
      "metadata": {
        "colab": {
          "base_uri": "https://localhost:8080/"
        },
        "id": "bKbygsPfCkCD",
        "outputId": "6391da41-84b1-4be5-d713-abd30dee98b8"
      },
      "source": [
        "#.shape shows the number of rows and cols, respectfully.\n",
        "#NOTE: It does not use parenthesis like other functions we'll use\n",
        "\n",
        "df.shape"
      ],
      "execution_count": null,
      "outputs": [
        {
          "output_type": "execute_result",
          "data": {
            "text/plain": [
              "(141, 12)"
            ]
          },
          "metadata": {},
          "execution_count": 46
        }
      ]
    },
    {
      "cell_type": "code",
      "metadata": {
        "colab": {
          "base_uri": "https://localhost:8080/"
        },
        "id": "L0D7_kfujXwh",
        "outputId": "5683978c-e2c3-4f9b-f188-b10472bdff65"
      },
      "source": [
        "#.size returns the number of elements in the dataframe (rows x columns)\n",
        "\n",
        "df.size"
      ],
      "execution_count": null,
      "outputs": [
        {
          "output_type": "execute_result",
          "data": {
            "text/plain": [
              "1692"
            ]
          },
          "metadata": {},
          "execution_count": 47
        }
      ]
    },
    {
      "cell_type": "code",
      "metadata": {
        "colab": {
          "base_uri": "https://localhost:8080/"
        },
        "id": "Iia0K7NMCkKo",
        "outputId": "532bd4c5-798d-4bf5-e07c-333dae04342b"
      },
      "source": [
        "#.info() prints information about a dataframe to help you quickly understand the columns you’re working with.\n",
        "#It will show columns, the indexes of those columns, the type of information it holds, and how many non-null values there are.\n",
        "#int64 is an int, float64 is a float, object is a string \n",
        "\n",
        "df.info()"
      ],
      "execution_count": null,
      "outputs": [
        {
          "output_type": "stream",
          "name": "stdout",
          "text": [
            "<class 'pandas.core.frame.DataFrame'>\n",
            "RangeIndex: 141 entries, 0 to 140\n",
            "Data columns (total 12 columns):\n",
            " #   Column                         Non-Null Count  Dtype  \n",
            "---  ------                         --------------  -----  \n",
            " 0   Season                         141 non-null    int64  \n",
            " 1   Name                           141 non-null    object \n",
            " 2   Age                            141 non-null    int64  \n",
            " 3   Hometown                       141 non-null    object \n",
            " 4   State                          141 non-null    object \n",
            " 5   College                        140 non-null    object \n",
            " 6   Occupation                     141 non-null    object \n",
            " 7   Win_Loss                       141 non-null    int64  \n",
            " 8   Height (cm)                    101 non-null    float64\n",
            " 9   Girlfriend While on the Show?  141 non-null    object \n",
            " 10  Hair Color                     141 non-null    object \n",
            " 11  Eye Color                      141 non-null    object \n",
            "dtypes: float64(1), int64(3), object(8)\n",
            "memory usage: 13.3+ KB\n"
          ]
        }
      ]
    },
    {
      "cell_type": "code",
      "metadata": {
        "colab": {
          "base_uri": "https://localhost:8080/",
          "height": 206
        },
        "id": "u_5DQIvZZY9i",
        "outputId": "56a65e9a-d50a-438a-dbcf-b7c7e38a4305"
      },
      "source": [
        "#running the dataframe for reference\n",
        "\n",
        "df.head()"
      ],
      "execution_count": null,
      "outputs": [
        {
          "output_type": "execute_result",
          "data": {
            "text/plain": [
              "   Season            Name  Age                      Hometown State  \\\n",
              "0      15       Jed Wyatt   25        Sevierville, Tennessee    TN   \n",
              "1      15   Tyler Cameron   26              Jupiter, Florida    FL   \n",
              "2      15     Peter Weber   27  Westlake Village, California    CA   \n",
              "3      15     Luke Parker   24          Gainesville, Georgia    GA   \n",
              "4      15  Garrett Powell   27             Homewood, Alabama    AL   \n",
              "\n",
              "                        College             Occupation  Win_Loss  Height (cm)  \\\n",
              "0            Belmont University      Singer/Songwriter         1       190.50   \n",
              "1                   Wake Forest     General Contractor         0       187.96   \n",
              "2             Baylor University                  Pilot         0       175.25   \n",
              "3           Faulkner University  Import/Export Manager         0       175.00   \n",
              "4  Mississippi State University               Golf Pro         0          NaN   \n",
              "\n",
              "  Girlfriend While on the Show? Hair Color Eye Color  \n",
              "0                           Yes      Brown     Brown  \n",
              "1                            No      Brown     Green  \n",
              "2                            No      Brown     Brown  \n",
              "3                            No     Blonde     Brown  \n",
              "4                            No      Brown     Green  "
            ],
            "text/html": [
              "\n",
              "  <div id=\"df-b54e26dc-7b43-470a-be87-79ff1b263785\">\n",
              "    <div class=\"colab-df-container\">\n",
              "      <div>\n",
              "<style scoped>\n",
              "    .dataframe tbody tr th:only-of-type {\n",
              "        vertical-align: middle;\n",
              "    }\n",
              "\n",
              "    .dataframe tbody tr th {\n",
              "        vertical-align: top;\n",
              "    }\n",
              "\n",
              "    .dataframe thead th {\n",
              "        text-align: right;\n",
              "    }\n",
              "</style>\n",
              "<table border=\"1\" class=\"dataframe\">\n",
              "  <thead>\n",
              "    <tr style=\"text-align: right;\">\n",
              "      <th></th>\n",
              "      <th>Season</th>\n",
              "      <th>Name</th>\n",
              "      <th>Age</th>\n",
              "      <th>Hometown</th>\n",
              "      <th>State</th>\n",
              "      <th>College</th>\n",
              "      <th>Occupation</th>\n",
              "      <th>Win_Loss</th>\n",
              "      <th>Height (cm)</th>\n",
              "      <th>Girlfriend While on the Show?</th>\n",
              "      <th>Hair Color</th>\n",
              "      <th>Eye Color</th>\n",
              "    </tr>\n",
              "  </thead>\n",
              "  <tbody>\n",
              "    <tr>\n",
              "      <th>0</th>\n",
              "      <td>15</td>\n",
              "      <td>Jed Wyatt</td>\n",
              "      <td>25</td>\n",
              "      <td>Sevierville, Tennessee</td>\n",
              "      <td>TN</td>\n",
              "      <td>Belmont University</td>\n",
              "      <td>Singer/Songwriter</td>\n",
              "      <td>1</td>\n",
              "      <td>190.50</td>\n",
              "      <td>Yes</td>\n",
              "      <td>Brown</td>\n",
              "      <td>Brown</td>\n",
              "    </tr>\n",
              "    <tr>\n",
              "      <th>1</th>\n",
              "      <td>15</td>\n",
              "      <td>Tyler Cameron</td>\n",
              "      <td>26</td>\n",
              "      <td>Jupiter, Florida</td>\n",
              "      <td>FL</td>\n",
              "      <td>Wake Forest</td>\n",
              "      <td>General Contractor</td>\n",
              "      <td>0</td>\n",
              "      <td>187.96</td>\n",
              "      <td>No</td>\n",
              "      <td>Brown</td>\n",
              "      <td>Green</td>\n",
              "    </tr>\n",
              "    <tr>\n",
              "      <th>2</th>\n",
              "      <td>15</td>\n",
              "      <td>Peter Weber</td>\n",
              "      <td>27</td>\n",
              "      <td>Westlake Village, California</td>\n",
              "      <td>CA</td>\n",
              "      <td>Baylor University</td>\n",
              "      <td>Pilot</td>\n",
              "      <td>0</td>\n",
              "      <td>175.25</td>\n",
              "      <td>No</td>\n",
              "      <td>Brown</td>\n",
              "      <td>Brown</td>\n",
              "    </tr>\n",
              "    <tr>\n",
              "      <th>3</th>\n",
              "      <td>15</td>\n",
              "      <td>Luke Parker</td>\n",
              "      <td>24</td>\n",
              "      <td>Gainesville, Georgia</td>\n",
              "      <td>GA</td>\n",
              "      <td>Faulkner University</td>\n",
              "      <td>Import/Export Manager</td>\n",
              "      <td>0</td>\n",
              "      <td>175.00</td>\n",
              "      <td>No</td>\n",
              "      <td>Blonde</td>\n",
              "      <td>Brown</td>\n",
              "    </tr>\n",
              "    <tr>\n",
              "      <th>4</th>\n",
              "      <td>15</td>\n",
              "      <td>Garrett Powell</td>\n",
              "      <td>27</td>\n",
              "      <td>Homewood, Alabama</td>\n",
              "      <td>AL</td>\n",
              "      <td>Mississippi State University</td>\n",
              "      <td>Golf Pro</td>\n",
              "      <td>0</td>\n",
              "      <td>NaN</td>\n",
              "      <td>No</td>\n",
              "      <td>Brown</td>\n",
              "      <td>Green</td>\n",
              "    </tr>\n",
              "  </tbody>\n",
              "</table>\n",
              "</div>\n",
              "      <button class=\"colab-df-convert\" onclick=\"convertToInteractive('df-b54e26dc-7b43-470a-be87-79ff1b263785')\"\n",
              "              title=\"Convert this dataframe to an interactive table.\"\n",
              "              style=\"display:none;\">\n",
              "        \n",
              "  <svg xmlns=\"http://www.w3.org/2000/svg\" height=\"24px\"viewBox=\"0 0 24 24\"\n",
              "       width=\"24px\">\n",
              "    <path d=\"M0 0h24v24H0V0z\" fill=\"none\"/>\n",
              "    <path d=\"M18.56 5.44l.94 2.06.94-2.06 2.06-.94-2.06-.94-.94-2.06-.94 2.06-2.06.94zm-11 1L8.5 8.5l.94-2.06 2.06-.94-2.06-.94L8.5 2.5l-.94 2.06-2.06.94zm10 10l.94 2.06.94-2.06 2.06-.94-2.06-.94-.94-2.06-.94 2.06-2.06.94z\"/><path d=\"M17.41 7.96l-1.37-1.37c-.4-.4-.92-.59-1.43-.59-.52 0-1.04.2-1.43.59L10.3 9.45l-7.72 7.72c-.78.78-.78 2.05 0 2.83L4 21.41c.39.39.9.59 1.41.59.51 0 1.02-.2 1.41-.59l7.78-7.78 2.81-2.81c.8-.78.8-2.07 0-2.86zM5.41 20L4 18.59l7.72-7.72 1.47 1.35L5.41 20z\"/>\n",
              "  </svg>\n",
              "      </button>\n",
              "      \n",
              "  <style>\n",
              "    .colab-df-container {\n",
              "      display:flex;\n",
              "      flex-wrap:wrap;\n",
              "      gap: 12px;\n",
              "    }\n",
              "\n",
              "    .colab-df-convert {\n",
              "      background-color: #E8F0FE;\n",
              "      border: none;\n",
              "      border-radius: 50%;\n",
              "      cursor: pointer;\n",
              "      display: none;\n",
              "      fill: #1967D2;\n",
              "      height: 32px;\n",
              "      padding: 0 0 0 0;\n",
              "      width: 32px;\n",
              "    }\n",
              "\n",
              "    .colab-df-convert:hover {\n",
              "      background-color: #E2EBFA;\n",
              "      box-shadow: 0px 1px 2px rgba(60, 64, 67, 0.3), 0px 1px 3px 1px rgba(60, 64, 67, 0.15);\n",
              "      fill: #174EA6;\n",
              "    }\n",
              "\n",
              "    [theme=dark] .colab-df-convert {\n",
              "      background-color: #3B4455;\n",
              "      fill: #D2E3FC;\n",
              "    }\n",
              "\n",
              "    [theme=dark] .colab-df-convert:hover {\n",
              "      background-color: #434B5C;\n",
              "      box-shadow: 0px 1px 3px 1px rgba(0, 0, 0, 0.15);\n",
              "      filter: drop-shadow(0px 1px 2px rgba(0, 0, 0, 0.3));\n",
              "      fill: #FFFFFF;\n",
              "    }\n",
              "  </style>\n",
              "\n",
              "      <script>\n",
              "        const buttonEl =\n",
              "          document.querySelector('#df-b54e26dc-7b43-470a-be87-79ff1b263785 button.colab-df-convert');\n",
              "        buttonEl.style.display =\n",
              "          google.colab.kernel.accessAllowed ? 'block' : 'none';\n",
              "\n",
              "        async function convertToInteractive(key) {\n",
              "          const element = document.querySelector('#df-b54e26dc-7b43-470a-be87-79ff1b263785');\n",
              "          const dataTable =\n",
              "            await google.colab.kernel.invokeFunction('convertToInteractive',\n",
              "                                                     [key], {});\n",
              "          if (!dataTable) return;\n",
              "\n",
              "          const docLinkHtml = 'Like what you see? Visit the ' +\n",
              "            '<a target=\"_blank\" href=https://colab.research.google.com/notebooks/data_table.ipynb>data table notebook</a>'\n",
              "            + ' to learn more about interactive tables.';\n",
              "          element.innerHTML = '';\n",
              "          dataTable['output_type'] = 'display_data';\n",
              "          await google.colab.output.renderOutput(dataTable, element);\n",
              "          const docLink = document.createElement('div');\n",
              "          docLink.innerHTML = docLinkHtml;\n",
              "          element.appendChild(docLink);\n",
              "        }\n",
              "      </script>\n",
              "    </div>\n",
              "  </div>\n",
              "  "
            ]
          },
          "metadata": {},
          "execution_count": 50
        }
      ]
    },
    {
      "cell_type": "code",
      "metadata": {
        "colab": {
          "base_uri": "https://localhost:8080/",
          "height": 300
        },
        "id": "iBg17e0nCkNd",
        "outputId": "e7e24b43-cc7a-4a20-b534-e6585ea8153b"
      },
      "source": [
        "#.describe() gives a summary of the NUMERIC VALUES in the dataset, it'll give you a better idea of the statistical properties of the data.\n",
        "\n",
        "df.describe()"
      ],
      "execution_count": null,
      "outputs": [
        {
          "output_type": "execute_result",
          "data": {
            "text/plain": [
              "           Season         Age    Win_Loss  Height (cm)\n",
              "count  141.000000  141.000000  141.000000   101.000000\n",
              "mean    13.070922   28.539007    0.035461   184.799802\n",
              "std      1.407355    2.705861    0.185601     5.692313\n",
              "min     11.000000   23.000000    0.000000   170.000000\n",
              "25%     12.000000   27.000000    0.000000   180.330000\n",
              "50%     13.000000   28.000000    0.000000   185.420000\n",
              "75%     14.000000   30.000000    0.000000   188.000000\n",
              "max     15.000000   37.000000    1.000000   198.120000"
            ],
            "text/html": [
              "\n",
              "  <div id=\"df-c632e57f-6349-4ed6-ae9d-d003fec1dc67\">\n",
              "    <div class=\"colab-df-container\">\n",
              "      <div>\n",
              "<style scoped>\n",
              "    .dataframe tbody tr th:only-of-type {\n",
              "        vertical-align: middle;\n",
              "    }\n",
              "\n",
              "    .dataframe tbody tr th {\n",
              "        vertical-align: top;\n",
              "    }\n",
              "\n",
              "    .dataframe thead th {\n",
              "        text-align: right;\n",
              "    }\n",
              "</style>\n",
              "<table border=\"1\" class=\"dataframe\">\n",
              "  <thead>\n",
              "    <tr style=\"text-align: right;\">\n",
              "      <th></th>\n",
              "      <th>Season</th>\n",
              "      <th>Age</th>\n",
              "      <th>Win_Loss</th>\n",
              "      <th>Height (cm)</th>\n",
              "    </tr>\n",
              "  </thead>\n",
              "  <tbody>\n",
              "    <tr>\n",
              "      <th>count</th>\n",
              "      <td>141.000000</td>\n",
              "      <td>141.000000</td>\n",
              "      <td>141.000000</td>\n",
              "      <td>101.000000</td>\n",
              "    </tr>\n",
              "    <tr>\n",
              "      <th>mean</th>\n",
              "      <td>13.070922</td>\n",
              "      <td>28.539007</td>\n",
              "      <td>0.035461</td>\n",
              "      <td>184.799802</td>\n",
              "    </tr>\n",
              "    <tr>\n",
              "      <th>std</th>\n",
              "      <td>1.407355</td>\n",
              "      <td>2.705861</td>\n",
              "      <td>0.185601</td>\n",
              "      <td>5.692313</td>\n",
              "    </tr>\n",
              "    <tr>\n",
              "      <th>min</th>\n",
              "      <td>11.000000</td>\n",
              "      <td>23.000000</td>\n",
              "      <td>0.000000</td>\n",
              "      <td>170.000000</td>\n",
              "    </tr>\n",
              "    <tr>\n",
              "      <th>25%</th>\n",
              "      <td>12.000000</td>\n",
              "      <td>27.000000</td>\n",
              "      <td>0.000000</td>\n",
              "      <td>180.330000</td>\n",
              "    </tr>\n",
              "    <tr>\n",
              "      <th>50%</th>\n",
              "      <td>13.000000</td>\n",
              "      <td>28.000000</td>\n",
              "      <td>0.000000</td>\n",
              "      <td>185.420000</td>\n",
              "    </tr>\n",
              "    <tr>\n",
              "      <th>75%</th>\n",
              "      <td>14.000000</td>\n",
              "      <td>30.000000</td>\n",
              "      <td>0.000000</td>\n",
              "      <td>188.000000</td>\n",
              "    </tr>\n",
              "    <tr>\n",
              "      <th>max</th>\n",
              "      <td>15.000000</td>\n",
              "      <td>37.000000</td>\n",
              "      <td>1.000000</td>\n",
              "      <td>198.120000</td>\n",
              "    </tr>\n",
              "  </tbody>\n",
              "</table>\n",
              "</div>\n",
              "      <button class=\"colab-df-convert\" onclick=\"convertToInteractive('df-c632e57f-6349-4ed6-ae9d-d003fec1dc67')\"\n",
              "              title=\"Convert this dataframe to an interactive table.\"\n",
              "              style=\"display:none;\">\n",
              "        \n",
              "  <svg xmlns=\"http://www.w3.org/2000/svg\" height=\"24px\"viewBox=\"0 0 24 24\"\n",
              "       width=\"24px\">\n",
              "    <path d=\"M0 0h24v24H0V0z\" fill=\"none\"/>\n",
              "    <path d=\"M18.56 5.44l.94 2.06.94-2.06 2.06-.94-2.06-.94-.94-2.06-.94 2.06-2.06.94zm-11 1L8.5 8.5l.94-2.06 2.06-.94-2.06-.94L8.5 2.5l-.94 2.06-2.06.94zm10 10l.94 2.06.94-2.06 2.06-.94-2.06-.94-.94-2.06-.94 2.06-2.06.94z\"/><path d=\"M17.41 7.96l-1.37-1.37c-.4-.4-.92-.59-1.43-.59-.52 0-1.04.2-1.43.59L10.3 9.45l-7.72 7.72c-.78.78-.78 2.05 0 2.83L4 21.41c.39.39.9.59 1.41.59.51 0 1.02-.2 1.41-.59l7.78-7.78 2.81-2.81c.8-.78.8-2.07 0-2.86zM5.41 20L4 18.59l7.72-7.72 1.47 1.35L5.41 20z\"/>\n",
              "  </svg>\n",
              "      </button>\n",
              "      \n",
              "  <style>\n",
              "    .colab-df-container {\n",
              "      display:flex;\n",
              "      flex-wrap:wrap;\n",
              "      gap: 12px;\n",
              "    }\n",
              "\n",
              "    .colab-df-convert {\n",
              "      background-color: #E8F0FE;\n",
              "      border: none;\n",
              "      border-radius: 50%;\n",
              "      cursor: pointer;\n",
              "      display: none;\n",
              "      fill: #1967D2;\n",
              "      height: 32px;\n",
              "      padding: 0 0 0 0;\n",
              "      width: 32px;\n",
              "    }\n",
              "\n",
              "    .colab-df-convert:hover {\n",
              "      background-color: #E2EBFA;\n",
              "      box-shadow: 0px 1px 2px rgba(60, 64, 67, 0.3), 0px 1px 3px 1px rgba(60, 64, 67, 0.15);\n",
              "      fill: #174EA6;\n",
              "    }\n",
              "\n",
              "    [theme=dark] .colab-df-convert {\n",
              "      background-color: #3B4455;\n",
              "      fill: #D2E3FC;\n",
              "    }\n",
              "\n",
              "    [theme=dark] .colab-df-convert:hover {\n",
              "      background-color: #434B5C;\n",
              "      box-shadow: 0px 1px 3px 1px rgba(0, 0, 0, 0.15);\n",
              "      filter: drop-shadow(0px 1px 2px rgba(0, 0, 0, 0.3));\n",
              "      fill: #FFFFFF;\n",
              "    }\n",
              "  </style>\n",
              "\n",
              "      <script>\n",
              "        const buttonEl =\n",
              "          document.querySelector('#df-c632e57f-6349-4ed6-ae9d-d003fec1dc67 button.colab-df-convert');\n",
              "        buttonEl.style.display =\n",
              "          google.colab.kernel.accessAllowed ? 'block' : 'none';\n",
              "\n",
              "        async function convertToInteractive(key) {\n",
              "          const element = document.querySelector('#df-c632e57f-6349-4ed6-ae9d-d003fec1dc67');\n",
              "          const dataTable =\n",
              "            await google.colab.kernel.invokeFunction('convertToInteractive',\n",
              "                                                     [key], {});\n",
              "          if (!dataTable) return;\n",
              "\n",
              "          const docLinkHtml = 'Like what you see? Visit the ' +\n",
              "            '<a target=\"_blank\" href=https://colab.research.google.com/notebooks/data_table.ipynb>data table notebook</a>'\n",
              "            + ' to learn more about interactive tables.';\n",
              "          element.innerHTML = '';\n",
              "          dataTable['output_type'] = 'display_data';\n",
              "          await google.colab.output.renderOutput(dataTable, element);\n",
              "          const docLink = document.createElement('div');\n",
              "          docLink.innerHTML = docLinkHtml;\n",
              "          element.appendChild(docLink);\n",
              "        }\n",
              "      </script>\n",
              "    </div>\n",
              "  </div>\n",
              "  "
            ]
          },
          "metadata": {},
          "execution_count": 51
        }
      ]
    },
    {
      "cell_type": "code",
      "metadata": {
        "colab": {
          "base_uri": "https://localhost:8080/"
        },
        "id": "Y5kyCobUCkQs",
        "outputId": "a551d09c-f025-477e-b23e-b7441e9a1a45"
      },
      "source": [
        "#You could ask for a specific column and then get the properties\n",
        "\n",
        "#For example:\n",
        "#NOTE: We don't use .loc here because that is usually used explicit indexing (indices with labels), but this dataframe doesn't use explicit index.\n",
        "\n",
        "df[\"Age\"].describe()"
      ],
      "execution_count": null,
      "outputs": [
        {
          "output_type": "execute_result",
          "data": {
            "text/plain": [
              "count    141.000000\n",
              "mean      28.539007\n",
              "std        2.705861\n",
              "min       23.000000\n",
              "25%       27.000000\n",
              "50%       28.000000\n",
              "75%       30.000000\n",
              "max       37.000000\n",
              "Name: Age, dtype: float64"
            ]
          },
          "metadata": {},
          "execution_count": 63
        }
      ]
    },
    {
      "cell_type": "code",
      "metadata": {
        "colab": {
          "base_uri": "https://localhost:8080/"
        },
        "id": "otPDBE1NfMYo",
        "outputId": "40ee49cf-77fc-42e0-bab1-65458356b80b"
      },
      "source": [
        "#single square brackets output a series\n",
        "\n",
        "print(type(df[\"Age\"].describe()))"
      ],
      "execution_count": null,
      "outputs": [
        {
          "output_type": "stream",
          "name": "stdout",
          "text": [
            "<class 'pandas.core.series.Series'>\n"
          ]
        }
      ]
    },
    {
      "cell_type": "code",
      "metadata": {
        "colab": {
          "base_uri": "https://localhost:8080/",
          "height": 300
        },
        "id": "iZy4QoIgbfdu",
        "outputId": "72ec38ca-6ceb-46a3-b7d0-184b47b1a9bb"
      },
      "source": [
        "#Double square brackets output a dataframe. As you can see it looks like it broke off of a dataframe\n",
        "\n",
        "df[[\"Age\"]].describe()"
      ],
      "execution_count": null,
      "outputs": [
        {
          "output_type": "execute_result",
          "data": {
            "text/plain": [
              "              Age\n",
              "count  141.000000\n",
              "mean    28.539007\n",
              "std      2.705861\n",
              "min     23.000000\n",
              "25%     27.000000\n",
              "50%     28.000000\n",
              "75%     30.000000\n",
              "max     37.000000"
            ],
            "text/html": [
              "\n",
              "  <div id=\"df-9bfaa66c-b899-44f1-8e5d-e31d4ba3a89c\">\n",
              "    <div class=\"colab-df-container\">\n",
              "      <div>\n",
              "<style scoped>\n",
              "    .dataframe tbody tr th:only-of-type {\n",
              "        vertical-align: middle;\n",
              "    }\n",
              "\n",
              "    .dataframe tbody tr th {\n",
              "        vertical-align: top;\n",
              "    }\n",
              "\n",
              "    .dataframe thead th {\n",
              "        text-align: right;\n",
              "    }\n",
              "</style>\n",
              "<table border=\"1\" class=\"dataframe\">\n",
              "  <thead>\n",
              "    <tr style=\"text-align: right;\">\n",
              "      <th></th>\n",
              "      <th>Age</th>\n",
              "    </tr>\n",
              "  </thead>\n",
              "  <tbody>\n",
              "    <tr>\n",
              "      <th>count</th>\n",
              "      <td>141.000000</td>\n",
              "    </tr>\n",
              "    <tr>\n",
              "      <th>mean</th>\n",
              "      <td>28.539007</td>\n",
              "    </tr>\n",
              "    <tr>\n",
              "      <th>std</th>\n",
              "      <td>2.705861</td>\n",
              "    </tr>\n",
              "    <tr>\n",
              "      <th>min</th>\n",
              "      <td>23.000000</td>\n",
              "    </tr>\n",
              "    <tr>\n",
              "      <th>25%</th>\n",
              "      <td>27.000000</td>\n",
              "    </tr>\n",
              "    <tr>\n",
              "      <th>50%</th>\n",
              "      <td>28.000000</td>\n",
              "    </tr>\n",
              "    <tr>\n",
              "      <th>75%</th>\n",
              "      <td>30.000000</td>\n",
              "    </tr>\n",
              "    <tr>\n",
              "      <th>max</th>\n",
              "      <td>37.000000</td>\n",
              "    </tr>\n",
              "  </tbody>\n",
              "</table>\n",
              "</div>\n",
              "      <button class=\"colab-df-convert\" onclick=\"convertToInteractive('df-9bfaa66c-b899-44f1-8e5d-e31d4ba3a89c')\"\n",
              "              title=\"Convert this dataframe to an interactive table.\"\n",
              "              style=\"display:none;\">\n",
              "        \n",
              "  <svg xmlns=\"http://www.w3.org/2000/svg\" height=\"24px\"viewBox=\"0 0 24 24\"\n",
              "       width=\"24px\">\n",
              "    <path d=\"M0 0h24v24H0V0z\" fill=\"none\"/>\n",
              "    <path d=\"M18.56 5.44l.94 2.06.94-2.06 2.06-.94-2.06-.94-.94-2.06-.94 2.06-2.06.94zm-11 1L8.5 8.5l.94-2.06 2.06-.94-2.06-.94L8.5 2.5l-.94 2.06-2.06.94zm10 10l.94 2.06.94-2.06 2.06-.94-2.06-.94-.94-2.06-.94 2.06-2.06.94z\"/><path d=\"M17.41 7.96l-1.37-1.37c-.4-.4-.92-.59-1.43-.59-.52 0-1.04.2-1.43.59L10.3 9.45l-7.72 7.72c-.78.78-.78 2.05 0 2.83L4 21.41c.39.39.9.59 1.41.59.51 0 1.02-.2 1.41-.59l7.78-7.78 2.81-2.81c.8-.78.8-2.07 0-2.86zM5.41 20L4 18.59l7.72-7.72 1.47 1.35L5.41 20z\"/>\n",
              "  </svg>\n",
              "      </button>\n",
              "      \n",
              "  <style>\n",
              "    .colab-df-container {\n",
              "      display:flex;\n",
              "      flex-wrap:wrap;\n",
              "      gap: 12px;\n",
              "    }\n",
              "\n",
              "    .colab-df-convert {\n",
              "      background-color: #E8F0FE;\n",
              "      border: none;\n",
              "      border-radius: 50%;\n",
              "      cursor: pointer;\n",
              "      display: none;\n",
              "      fill: #1967D2;\n",
              "      height: 32px;\n",
              "      padding: 0 0 0 0;\n",
              "      width: 32px;\n",
              "    }\n",
              "\n",
              "    .colab-df-convert:hover {\n",
              "      background-color: #E2EBFA;\n",
              "      box-shadow: 0px 1px 2px rgba(60, 64, 67, 0.3), 0px 1px 3px 1px rgba(60, 64, 67, 0.15);\n",
              "      fill: #174EA6;\n",
              "    }\n",
              "\n",
              "    [theme=dark] .colab-df-convert {\n",
              "      background-color: #3B4455;\n",
              "      fill: #D2E3FC;\n",
              "    }\n",
              "\n",
              "    [theme=dark] .colab-df-convert:hover {\n",
              "      background-color: #434B5C;\n",
              "      box-shadow: 0px 1px 3px 1px rgba(0, 0, 0, 0.15);\n",
              "      filter: drop-shadow(0px 1px 2px rgba(0, 0, 0, 0.3));\n",
              "      fill: #FFFFFF;\n",
              "    }\n",
              "  </style>\n",
              "\n",
              "      <script>\n",
              "        const buttonEl =\n",
              "          document.querySelector('#df-9bfaa66c-b899-44f1-8e5d-e31d4ba3a89c button.colab-df-convert');\n",
              "        buttonEl.style.display =\n",
              "          google.colab.kernel.accessAllowed ? 'block' : 'none';\n",
              "\n",
              "        async function convertToInteractive(key) {\n",
              "          const element = document.querySelector('#df-9bfaa66c-b899-44f1-8e5d-e31d4ba3a89c');\n",
              "          const dataTable =\n",
              "            await google.colab.kernel.invokeFunction('convertToInteractive',\n",
              "                                                     [key], {});\n",
              "          if (!dataTable) return;\n",
              "\n",
              "          const docLinkHtml = 'Like what you see? Visit the ' +\n",
              "            '<a target=\"_blank\" href=https://colab.research.google.com/notebooks/data_table.ipynb>data table notebook</a>'\n",
              "            + ' to learn more about interactive tables.';\n",
              "          element.innerHTML = '';\n",
              "          dataTable['output_type'] = 'display_data';\n",
              "          await google.colab.output.renderOutput(dataTable, element);\n",
              "          const docLink = document.createElement('div');\n",
              "          docLink.innerHTML = docLinkHtml;\n",
              "          element.appendChild(docLink);\n",
              "        }\n",
              "      </script>\n",
              "    </div>\n",
              "  </div>\n",
              "  "
            ]
          },
          "metadata": {},
          "execution_count": 66
        }
      ]
    },
    {
      "cell_type": "code",
      "metadata": {
        "colab": {
          "base_uri": "https://localhost:8080/"
        },
        "id": "DXzR-keMfSW_",
        "outputId": "fcac49d0-dff9-43b3-d20f-83483eb427ef"
      },
      "source": [
        "print(type(df[[\"Age\"]].describe()))"
      ],
      "execution_count": null,
      "outputs": [
        {
          "output_type": "stream",
          "name": "stdout",
          "text": [
            "<class 'pandas.core.frame.DataFrame'>\n"
          ]
        }
      ]
    },
    {
      "cell_type": "code",
      "metadata": {
        "colab": {
          "base_uri": "https://localhost:8080/",
          "height": 300
        },
        "id": "l3qDBPaZZ5qM",
        "outputId": "572c626a-ee9d-41b2-8f2d-88a023e92810"
      },
      "source": [
        "#You can check multiple column properties at a time, but you can't do it with slicing\n",
        "#It has to be comma separated and it has to be between double square brackets\n",
        "#For example:\n",
        "\n",
        "df[[\"Age\", \"Height (cm)\"]].describe()"
      ],
      "execution_count": null,
      "outputs": [
        {
          "output_type": "execute_result",
          "data": {
            "text/plain": [
              "              Age  Height (cm)\n",
              "count  141.000000   101.000000\n",
              "mean    28.539007   184.799802\n",
              "std      2.705861     5.692313\n",
              "min     23.000000   170.000000\n",
              "25%     27.000000   180.330000\n",
              "50%     28.000000   185.420000\n",
              "75%     30.000000   188.000000\n",
              "max     37.000000   198.120000"
            ],
            "text/html": [
              "\n",
              "  <div id=\"df-e842d026-d0fb-439a-9e5f-08dfbfc514fe\">\n",
              "    <div class=\"colab-df-container\">\n",
              "      <div>\n",
              "<style scoped>\n",
              "    .dataframe tbody tr th:only-of-type {\n",
              "        vertical-align: middle;\n",
              "    }\n",
              "\n",
              "    .dataframe tbody tr th {\n",
              "        vertical-align: top;\n",
              "    }\n",
              "\n",
              "    .dataframe thead th {\n",
              "        text-align: right;\n",
              "    }\n",
              "</style>\n",
              "<table border=\"1\" class=\"dataframe\">\n",
              "  <thead>\n",
              "    <tr style=\"text-align: right;\">\n",
              "      <th></th>\n",
              "      <th>Age</th>\n",
              "      <th>Height (cm)</th>\n",
              "    </tr>\n",
              "  </thead>\n",
              "  <tbody>\n",
              "    <tr>\n",
              "      <th>count</th>\n",
              "      <td>141.000000</td>\n",
              "      <td>101.000000</td>\n",
              "    </tr>\n",
              "    <tr>\n",
              "      <th>mean</th>\n",
              "      <td>28.539007</td>\n",
              "      <td>184.799802</td>\n",
              "    </tr>\n",
              "    <tr>\n",
              "      <th>std</th>\n",
              "      <td>2.705861</td>\n",
              "      <td>5.692313</td>\n",
              "    </tr>\n",
              "    <tr>\n",
              "      <th>min</th>\n",
              "      <td>23.000000</td>\n",
              "      <td>170.000000</td>\n",
              "    </tr>\n",
              "    <tr>\n",
              "      <th>25%</th>\n",
              "      <td>27.000000</td>\n",
              "      <td>180.330000</td>\n",
              "    </tr>\n",
              "    <tr>\n",
              "      <th>50%</th>\n",
              "      <td>28.000000</td>\n",
              "      <td>185.420000</td>\n",
              "    </tr>\n",
              "    <tr>\n",
              "      <th>75%</th>\n",
              "      <td>30.000000</td>\n",
              "      <td>188.000000</td>\n",
              "    </tr>\n",
              "    <tr>\n",
              "      <th>max</th>\n",
              "      <td>37.000000</td>\n",
              "      <td>198.120000</td>\n",
              "    </tr>\n",
              "  </tbody>\n",
              "</table>\n",
              "</div>\n",
              "      <button class=\"colab-df-convert\" onclick=\"convertToInteractive('df-e842d026-d0fb-439a-9e5f-08dfbfc514fe')\"\n",
              "              title=\"Convert this dataframe to an interactive table.\"\n",
              "              style=\"display:none;\">\n",
              "        \n",
              "  <svg xmlns=\"http://www.w3.org/2000/svg\" height=\"24px\"viewBox=\"0 0 24 24\"\n",
              "       width=\"24px\">\n",
              "    <path d=\"M0 0h24v24H0V0z\" fill=\"none\"/>\n",
              "    <path d=\"M18.56 5.44l.94 2.06.94-2.06 2.06-.94-2.06-.94-.94-2.06-.94 2.06-2.06.94zm-11 1L8.5 8.5l.94-2.06 2.06-.94-2.06-.94L8.5 2.5l-.94 2.06-2.06.94zm10 10l.94 2.06.94-2.06 2.06-.94-2.06-.94-.94-2.06-.94 2.06-2.06.94z\"/><path d=\"M17.41 7.96l-1.37-1.37c-.4-.4-.92-.59-1.43-.59-.52 0-1.04.2-1.43.59L10.3 9.45l-7.72 7.72c-.78.78-.78 2.05 0 2.83L4 21.41c.39.39.9.59 1.41.59.51 0 1.02-.2 1.41-.59l7.78-7.78 2.81-2.81c.8-.78.8-2.07 0-2.86zM5.41 20L4 18.59l7.72-7.72 1.47 1.35L5.41 20z\"/>\n",
              "  </svg>\n",
              "      </button>\n",
              "      \n",
              "  <style>\n",
              "    .colab-df-container {\n",
              "      display:flex;\n",
              "      flex-wrap:wrap;\n",
              "      gap: 12px;\n",
              "    }\n",
              "\n",
              "    .colab-df-convert {\n",
              "      background-color: #E8F0FE;\n",
              "      border: none;\n",
              "      border-radius: 50%;\n",
              "      cursor: pointer;\n",
              "      display: none;\n",
              "      fill: #1967D2;\n",
              "      height: 32px;\n",
              "      padding: 0 0 0 0;\n",
              "      width: 32px;\n",
              "    }\n",
              "\n",
              "    .colab-df-convert:hover {\n",
              "      background-color: #E2EBFA;\n",
              "      box-shadow: 0px 1px 2px rgba(60, 64, 67, 0.3), 0px 1px 3px 1px rgba(60, 64, 67, 0.15);\n",
              "      fill: #174EA6;\n",
              "    }\n",
              "\n",
              "    [theme=dark] .colab-df-convert {\n",
              "      background-color: #3B4455;\n",
              "      fill: #D2E3FC;\n",
              "    }\n",
              "\n",
              "    [theme=dark] .colab-df-convert:hover {\n",
              "      background-color: #434B5C;\n",
              "      box-shadow: 0px 1px 3px 1px rgba(0, 0, 0, 0.15);\n",
              "      filter: drop-shadow(0px 1px 2px rgba(0, 0, 0, 0.3));\n",
              "      fill: #FFFFFF;\n",
              "    }\n",
              "  </style>\n",
              "\n",
              "      <script>\n",
              "        const buttonEl =\n",
              "          document.querySelector('#df-e842d026-d0fb-439a-9e5f-08dfbfc514fe button.colab-df-convert');\n",
              "        buttonEl.style.display =\n",
              "          google.colab.kernel.accessAllowed ? 'block' : 'none';\n",
              "\n",
              "        async function convertToInteractive(key) {\n",
              "          const element = document.querySelector('#df-e842d026-d0fb-439a-9e5f-08dfbfc514fe');\n",
              "          const dataTable =\n",
              "            await google.colab.kernel.invokeFunction('convertToInteractive',\n",
              "                                                     [key], {});\n",
              "          if (!dataTable) return;\n",
              "\n",
              "          const docLinkHtml = 'Like what you see? Visit the ' +\n",
              "            '<a target=\"_blank\" href=https://colab.research.google.com/notebooks/data_table.ipynb>data table notebook</a>'\n",
              "            + ' to learn more about interactive tables.';\n",
              "          element.innerHTML = '';\n",
              "          dataTable['output_type'] = 'display_data';\n",
              "          await google.colab.output.renderOutput(dataTable, element);\n",
              "          const docLink = document.createElement('div');\n",
              "          docLink.innerHTML = docLinkHtml;\n",
              "          element.appendChild(docLink);\n",
              "        }\n",
              "      </script>\n",
              "    </div>\n",
              "  </div>\n",
              "  "
            ]
          },
          "metadata": {},
          "execution_count": 68
        }
      ]
    },
    {
      "cell_type": "code",
      "metadata": {
        "id": "UfawI5ntUN_W",
        "colab": {
          "base_uri": "https://localhost:8080/",
          "height": 206
        },
        "outputId": "459c57a6-b708-41ee-804e-2fc5c2915874"
      },
      "source": [
        "#This is how we can grab specific rows and columns \n",
        "\n",
        "df[0:5][[\"Age\", \"Height (cm)\"]]"
      ],
      "execution_count": null,
      "outputs": [
        {
          "output_type": "execute_result",
          "data": {
            "text/plain": [
              "   Age  Height (cm)\n",
              "0   25       190.50\n",
              "1   26       187.96\n",
              "2   27       175.25\n",
              "3   24       175.00\n",
              "4   27          NaN"
            ],
            "text/html": [
              "\n",
              "  <div id=\"df-6991a9e9-2860-4511-9b73-5c999ccd57a3\">\n",
              "    <div class=\"colab-df-container\">\n",
              "      <div>\n",
              "<style scoped>\n",
              "    .dataframe tbody tr th:only-of-type {\n",
              "        vertical-align: middle;\n",
              "    }\n",
              "\n",
              "    .dataframe tbody tr th {\n",
              "        vertical-align: top;\n",
              "    }\n",
              "\n",
              "    .dataframe thead th {\n",
              "        text-align: right;\n",
              "    }\n",
              "</style>\n",
              "<table border=\"1\" class=\"dataframe\">\n",
              "  <thead>\n",
              "    <tr style=\"text-align: right;\">\n",
              "      <th></th>\n",
              "      <th>Age</th>\n",
              "      <th>Height (cm)</th>\n",
              "    </tr>\n",
              "  </thead>\n",
              "  <tbody>\n",
              "    <tr>\n",
              "      <th>0</th>\n",
              "      <td>25</td>\n",
              "      <td>190.50</td>\n",
              "    </tr>\n",
              "    <tr>\n",
              "      <th>1</th>\n",
              "      <td>26</td>\n",
              "      <td>187.96</td>\n",
              "    </tr>\n",
              "    <tr>\n",
              "      <th>2</th>\n",
              "      <td>27</td>\n",
              "      <td>175.25</td>\n",
              "    </tr>\n",
              "    <tr>\n",
              "      <th>3</th>\n",
              "      <td>24</td>\n",
              "      <td>175.00</td>\n",
              "    </tr>\n",
              "    <tr>\n",
              "      <th>4</th>\n",
              "      <td>27</td>\n",
              "      <td>NaN</td>\n",
              "    </tr>\n",
              "  </tbody>\n",
              "</table>\n",
              "</div>\n",
              "      <button class=\"colab-df-convert\" onclick=\"convertToInteractive('df-6991a9e9-2860-4511-9b73-5c999ccd57a3')\"\n",
              "              title=\"Convert this dataframe to an interactive table.\"\n",
              "              style=\"display:none;\">\n",
              "        \n",
              "  <svg xmlns=\"http://www.w3.org/2000/svg\" height=\"24px\"viewBox=\"0 0 24 24\"\n",
              "       width=\"24px\">\n",
              "    <path d=\"M0 0h24v24H0V0z\" fill=\"none\"/>\n",
              "    <path d=\"M18.56 5.44l.94 2.06.94-2.06 2.06-.94-2.06-.94-.94-2.06-.94 2.06-2.06.94zm-11 1L8.5 8.5l.94-2.06 2.06-.94-2.06-.94L8.5 2.5l-.94 2.06-2.06.94zm10 10l.94 2.06.94-2.06 2.06-.94-2.06-.94-.94-2.06-.94 2.06-2.06.94z\"/><path d=\"M17.41 7.96l-1.37-1.37c-.4-.4-.92-.59-1.43-.59-.52 0-1.04.2-1.43.59L10.3 9.45l-7.72 7.72c-.78.78-.78 2.05 0 2.83L4 21.41c.39.39.9.59 1.41.59.51 0 1.02-.2 1.41-.59l7.78-7.78 2.81-2.81c.8-.78.8-2.07 0-2.86zM5.41 20L4 18.59l7.72-7.72 1.47 1.35L5.41 20z\"/>\n",
              "  </svg>\n",
              "      </button>\n",
              "      \n",
              "  <style>\n",
              "    .colab-df-container {\n",
              "      display:flex;\n",
              "      flex-wrap:wrap;\n",
              "      gap: 12px;\n",
              "    }\n",
              "\n",
              "    .colab-df-convert {\n",
              "      background-color: #E8F0FE;\n",
              "      border: none;\n",
              "      border-radius: 50%;\n",
              "      cursor: pointer;\n",
              "      display: none;\n",
              "      fill: #1967D2;\n",
              "      height: 32px;\n",
              "      padding: 0 0 0 0;\n",
              "      width: 32px;\n",
              "    }\n",
              "\n",
              "    .colab-df-convert:hover {\n",
              "      background-color: #E2EBFA;\n",
              "      box-shadow: 0px 1px 2px rgba(60, 64, 67, 0.3), 0px 1px 3px 1px rgba(60, 64, 67, 0.15);\n",
              "      fill: #174EA6;\n",
              "    }\n",
              "\n",
              "    [theme=dark] .colab-df-convert {\n",
              "      background-color: #3B4455;\n",
              "      fill: #D2E3FC;\n",
              "    }\n",
              "\n",
              "    [theme=dark] .colab-df-convert:hover {\n",
              "      background-color: #434B5C;\n",
              "      box-shadow: 0px 1px 3px 1px rgba(0, 0, 0, 0.15);\n",
              "      filter: drop-shadow(0px 1px 2px rgba(0, 0, 0, 0.3));\n",
              "      fill: #FFFFFF;\n",
              "    }\n",
              "  </style>\n",
              "\n",
              "      <script>\n",
              "        const buttonEl =\n",
              "          document.querySelector('#df-6991a9e9-2860-4511-9b73-5c999ccd57a3 button.colab-df-convert');\n",
              "        buttonEl.style.display =\n",
              "          google.colab.kernel.accessAllowed ? 'block' : 'none';\n",
              "\n",
              "        async function convertToInteractive(key) {\n",
              "          const element = document.querySelector('#df-6991a9e9-2860-4511-9b73-5c999ccd57a3');\n",
              "          const dataTable =\n",
              "            await google.colab.kernel.invokeFunction('convertToInteractive',\n",
              "                                                     [key], {});\n",
              "          if (!dataTable) return;\n",
              "\n",
              "          const docLinkHtml = 'Like what you see? Visit the ' +\n",
              "            '<a target=\"_blank\" href=https://colab.research.google.com/notebooks/data_table.ipynb>data table notebook</a>'\n",
              "            + ' to learn more about interactive tables.';\n",
              "          element.innerHTML = '';\n",
              "          dataTable['output_type'] = 'display_data';\n",
              "          await google.colab.output.renderOutput(dataTable, element);\n",
              "          const docLink = document.createElement('div');\n",
              "          docLink.innerHTML = docLinkHtml;\n",
              "          element.appendChild(docLink);\n",
              "        }\n",
              "      </script>\n",
              "    </div>\n",
              "  </div>\n",
              "  "
            ]
          },
          "metadata": {},
          "execution_count": 69
        }
      ]
    },
    {
      "cell_type": "code",
      "metadata": {
        "id": "GxIfsHwrUOCo",
        "colab": {
          "base_uri": "https://localhost:8080/",
          "height": 206
        },
        "outputId": "94fc7bba-b481-4dd0-fea6-d78fbe730ef9"
      },
      "source": [
        "#Another example\n",
        "\n",
        "df[0:5][[\"Age\"]]"
      ],
      "execution_count": null,
      "outputs": [
        {
          "output_type": "execute_result",
          "data": {
            "text/plain": [
              "   Age\n",
              "0   25\n",
              "1   26\n",
              "2   27\n",
              "3   24\n",
              "4   27"
            ],
            "text/html": [
              "\n",
              "  <div id=\"df-4611cdc7-d82d-4f2f-bc24-9c04639d0188\">\n",
              "    <div class=\"colab-df-container\">\n",
              "      <div>\n",
              "<style scoped>\n",
              "    .dataframe tbody tr th:only-of-type {\n",
              "        vertical-align: middle;\n",
              "    }\n",
              "\n",
              "    .dataframe tbody tr th {\n",
              "        vertical-align: top;\n",
              "    }\n",
              "\n",
              "    .dataframe thead th {\n",
              "        text-align: right;\n",
              "    }\n",
              "</style>\n",
              "<table border=\"1\" class=\"dataframe\">\n",
              "  <thead>\n",
              "    <tr style=\"text-align: right;\">\n",
              "      <th></th>\n",
              "      <th>Age</th>\n",
              "    </tr>\n",
              "  </thead>\n",
              "  <tbody>\n",
              "    <tr>\n",
              "      <th>0</th>\n",
              "      <td>25</td>\n",
              "    </tr>\n",
              "    <tr>\n",
              "      <th>1</th>\n",
              "      <td>26</td>\n",
              "    </tr>\n",
              "    <tr>\n",
              "      <th>2</th>\n",
              "      <td>27</td>\n",
              "    </tr>\n",
              "    <tr>\n",
              "      <th>3</th>\n",
              "      <td>24</td>\n",
              "    </tr>\n",
              "    <tr>\n",
              "      <th>4</th>\n",
              "      <td>27</td>\n",
              "    </tr>\n",
              "  </tbody>\n",
              "</table>\n",
              "</div>\n",
              "      <button class=\"colab-df-convert\" onclick=\"convertToInteractive('df-4611cdc7-d82d-4f2f-bc24-9c04639d0188')\"\n",
              "              title=\"Convert this dataframe to an interactive table.\"\n",
              "              style=\"display:none;\">\n",
              "        \n",
              "  <svg xmlns=\"http://www.w3.org/2000/svg\" height=\"24px\"viewBox=\"0 0 24 24\"\n",
              "       width=\"24px\">\n",
              "    <path d=\"M0 0h24v24H0V0z\" fill=\"none\"/>\n",
              "    <path d=\"M18.56 5.44l.94 2.06.94-2.06 2.06-.94-2.06-.94-.94-2.06-.94 2.06-2.06.94zm-11 1L8.5 8.5l.94-2.06 2.06-.94-2.06-.94L8.5 2.5l-.94 2.06-2.06.94zm10 10l.94 2.06.94-2.06 2.06-.94-2.06-.94-.94-2.06-.94 2.06-2.06.94z\"/><path d=\"M17.41 7.96l-1.37-1.37c-.4-.4-.92-.59-1.43-.59-.52 0-1.04.2-1.43.59L10.3 9.45l-7.72 7.72c-.78.78-.78 2.05 0 2.83L4 21.41c.39.39.9.59 1.41.59.51 0 1.02-.2 1.41-.59l7.78-7.78 2.81-2.81c.8-.78.8-2.07 0-2.86zM5.41 20L4 18.59l7.72-7.72 1.47 1.35L5.41 20z\"/>\n",
              "  </svg>\n",
              "      </button>\n",
              "      \n",
              "  <style>\n",
              "    .colab-df-container {\n",
              "      display:flex;\n",
              "      flex-wrap:wrap;\n",
              "      gap: 12px;\n",
              "    }\n",
              "\n",
              "    .colab-df-convert {\n",
              "      background-color: #E8F0FE;\n",
              "      border: none;\n",
              "      border-radius: 50%;\n",
              "      cursor: pointer;\n",
              "      display: none;\n",
              "      fill: #1967D2;\n",
              "      height: 32px;\n",
              "      padding: 0 0 0 0;\n",
              "      width: 32px;\n",
              "    }\n",
              "\n",
              "    .colab-df-convert:hover {\n",
              "      background-color: #E2EBFA;\n",
              "      box-shadow: 0px 1px 2px rgba(60, 64, 67, 0.3), 0px 1px 3px 1px rgba(60, 64, 67, 0.15);\n",
              "      fill: #174EA6;\n",
              "    }\n",
              "\n",
              "    [theme=dark] .colab-df-convert {\n",
              "      background-color: #3B4455;\n",
              "      fill: #D2E3FC;\n",
              "    }\n",
              "\n",
              "    [theme=dark] .colab-df-convert:hover {\n",
              "      background-color: #434B5C;\n",
              "      box-shadow: 0px 1px 3px 1px rgba(0, 0, 0, 0.15);\n",
              "      filter: drop-shadow(0px 1px 2px rgba(0, 0, 0, 0.3));\n",
              "      fill: #FFFFFF;\n",
              "    }\n",
              "  </style>\n",
              "\n",
              "      <script>\n",
              "        const buttonEl =\n",
              "          document.querySelector('#df-4611cdc7-d82d-4f2f-bc24-9c04639d0188 button.colab-df-convert');\n",
              "        buttonEl.style.display =\n",
              "          google.colab.kernel.accessAllowed ? 'block' : 'none';\n",
              "\n",
              "        async function convertToInteractive(key) {\n",
              "          const element = document.querySelector('#df-4611cdc7-d82d-4f2f-bc24-9c04639d0188');\n",
              "          const dataTable =\n",
              "            await google.colab.kernel.invokeFunction('convertToInteractive',\n",
              "                                                     [key], {});\n",
              "          if (!dataTable) return;\n",
              "\n",
              "          const docLinkHtml = 'Like what you see? Visit the ' +\n",
              "            '<a target=\"_blank\" href=https://colab.research.google.com/notebooks/data_table.ipynb>data table notebook</a>'\n",
              "            + ' to learn more about interactive tables.';\n",
              "          element.innerHTML = '';\n",
              "          dataTable['output_type'] = 'display_data';\n",
              "          await google.colab.output.renderOutput(dataTable, element);\n",
              "          const docLink = document.createElement('div');\n",
              "          docLink.innerHTML = docLinkHtml;\n",
              "          element.appendChild(docLink);\n",
              "        }\n",
              "      </script>\n",
              "    </div>\n",
              "  </div>\n",
              "  "
            ]
          },
          "metadata": {},
          "execution_count": 70
        }
      ]
    },
    {
      "cell_type": "markdown",
      "metadata": {
        "id": "yucZqjDPlBBf"
      },
      "source": [
        "##Data Visualization"
      ]
    },
    {
      "cell_type": "code",
      "metadata": {
        "id": "YRUMkxIIlAsA"
      },
      "source": [
        "#We'll import every library we need to make some graphs. \n",
        "\n",
        "import numpy as np\n",
        "import pandas as pd\n",
        "import matplotlib.pyplot as plt\n",
        "import seaborn as sns\n",
        "\n",
        "#This website explains what all matplotlib functions do https://matplotlib.org/stable/api/_as_gen/matplotlib.pyplot.html"
      ],
      "execution_count": null,
      "outputs": []
    },
    {
      "cell_type": "code",
      "metadata": {
        "colab": {
          "base_uri": "https://localhost:8080/",
          "height": 467
        },
        "id": "1aSZpmu5EV0c",
        "outputId": "9e429d85-0904-47f6-a3dd-328d512a7fda"
      },
      "source": [
        "#For reference\n",
        "\n",
        "df"
      ],
      "execution_count": null,
      "outputs": [
        {
          "output_type": "execute_result",
          "data": {
            "text/plain": [
              "     Season                  Name  Age                      Hometown  State  \\\n",
              "0        15             Jed Wyatt   25        Sevierville, Tennessee     TN   \n",
              "1        15         Tyler Cameron   26              Jupiter, Florida     FL   \n",
              "2        15           Peter Weber   27  Westlake Village, California     CA   \n",
              "3        15           Luke Parker   24          Gainesville, Georgia     GA   \n",
              "4        15        Garrett Powell   27             Homewood, Alabama     AL   \n",
              "..      ...                   ...  ...                           ...    ...   \n",
              "136      11             David Cox   28              Orlando, Florida     FL   \n",
              "137      11  Joshua \"Josh\" Seiter   27             Chicago, Illinois     IL   \n",
              "138      11           Shawn Evans   31               London, Ontario  Other   \n",
              "139      11           Brady Toops   33                 Wauseon, Ohio     OH   \n",
              "140      11           Ryan McDill   28         Kansas City, Missouri     MO   \n",
              "\n",
              "                          College                 Occupation  Win_Loss  \\\n",
              "0              Belmont University          Singer/Songwriter         1   \n",
              "1                     Wake Forest         General Contractor         0   \n",
              "2               Baylor University                      Pilot         0   \n",
              "3             Faulkner University      Import/Export Manager         0   \n",
              "4    Mississippi State University                   Golf Pro         0   \n",
              "..                            ...                        ...       ...   \n",
              "136                         Other          Real Estate Agent         0   \n",
              "137          Chicago-Kent College  Law Student/Exotic Dancer         0   \n",
              "138                         Other          Amateur Sex Coach         0   \n",
              "139                         Other          Singer/Songwriter         0   \n",
              "140                         Other        Junkyard Specialist         0   \n",
              "\n",
              "     Height (cm) Girlfriend While on the Show? Hair Color Eye Color  \n",
              "0         190.50                           Yes      Brown     Brown  \n",
              "1         187.96                            No      Brown     Green  \n",
              "2         175.25                            No      Brown     Brown  \n",
              "3         175.00                            No     Blonde     Brown  \n",
              "4            NaN                            No      Brown     Green  \n",
              "..           ...                           ...        ...       ...  \n",
              "136          NaN                            No      Brown     Brown  \n",
              "137       187.96                            No      Brown     Brown  \n",
              "138          NaN                            No      Brown     Brown  \n",
              "139       187.96                            No      Brown     Brown  \n",
              "140       190.50                            No      Brown      Blue  \n",
              "\n",
              "[141 rows x 12 columns]"
            ],
            "text/html": [
              "\n",
              "  <div id=\"df-251bfd5e-11a8-4751-99e5-f55698d01279\">\n",
              "    <div class=\"colab-df-container\">\n",
              "      <div>\n",
              "<style scoped>\n",
              "    .dataframe tbody tr th:only-of-type {\n",
              "        vertical-align: middle;\n",
              "    }\n",
              "\n",
              "    .dataframe tbody tr th {\n",
              "        vertical-align: top;\n",
              "    }\n",
              "\n",
              "    .dataframe thead th {\n",
              "        text-align: right;\n",
              "    }\n",
              "</style>\n",
              "<table border=\"1\" class=\"dataframe\">\n",
              "  <thead>\n",
              "    <tr style=\"text-align: right;\">\n",
              "      <th></th>\n",
              "      <th>Season</th>\n",
              "      <th>Name</th>\n",
              "      <th>Age</th>\n",
              "      <th>Hometown</th>\n",
              "      <th>State</th>\n",
              "      <th>College</th>\n",
              "      <th>Occupation</th>\n",
              "      <th>Win_Loss</th>\n",
              "      <th>Height (cm)</th>\n",
              "      <th>Girlfriend While on the Show?</th>\n",
              "      <th>Hair Color</th>\n",
              "      <th>Eye Color</th>\n",
              "    </tr>\n",
              "  </thead>\n",
              "  <tbody>\n",
              "    <tr>\n",
              "      <th>0</th>\n",
              "      <td>15</td>\n",
              "      <td>Jed Wyatt</td>\n",
              "      <td>25</td>\n",
              "      <td>Sevierville, Tennessee</td>\n",
              "      <td>TN</td>\n",
              "      <td>Belmont University</td>\n",
              "      <td>Singer/Songwriter</td>\n",
              "      <td>1</td>\n",
              "      <td>190.50</td>\n",
              "      <td>Yes</td>\n",
              "      <td>Brown</td>\n",
              "      <td>Brown</td>\n",
              "    </tr>\n",
              "    <tr>\n",
              "      <th>1</th>\n",
              "      <td>15</td>\n",
              "      <td>Tyler Cameron</td>\n",
              "      <td>26</td>\n",
              "      <td>Jupiter, Florida</td>\n",
              "      <td>FL</td>\n",
              "      <td>Wake Forest</td>\n",
              "      <td>General Contractor</td>\n",
              "      <td>0</td>\n",
              "      <td>187.96</td>\n",
              "      <td>No</td>\n",
              "      <td>Brown</td>\n",
              "      <td>Green</td>\n",
              "    </tr>\n",
              "    <tr>\n",
              "      <th>2</th>\n",
              "      <td>15</td>\n",
              "      <td>Peter Weber</td>\n",
              "      <td>27</td>\n",
              "      <td>Westlake Village, California</td>\n",
              "      <td>CA</td>\n",
              "      <td>Baylor University</td>\n",
              "      <td>Pilot</td>\n",
              "      <td>0</td>\n",
              "      <td>175.25</td>\n",
              "      <td>No</td>\n",
              "      <td>Brown</td>\n",
              "      <td>Brown</td>\n",
              "    </tr>\n",
              "    <tr>\n",
              "      <th>3</th>\n",
              "      <td>15</td>\n",
              "      <td>Luke Parker</td>\n",
              "      <td>24</td>\n",
              "      <td>Gainesville, Georgia</td>\n",
              "      <td>GA</td>\n",
              "      <td>Faulkner University</td>\n",
              "      <td>Import/Export Manager</td>\n",
              "      <td>0</td>\n",
              "      <td>175.00</td>\n",
              "      <td>No</td>\n",
              "      <td>Blonde</td>\n",
              "      <td>Brown</td>\n",
              "    </tr>\n",
              "    <tr>\n",
              "      <th>4</th>\n",
              "      <td>15</td>\n",
              "      <td>Garrett Powell</td>\n",
              "      <td>27</td>\n",
              "      <td>Homewood, Alabama</td>\n",
              "      <td>AL</td>\n",
              "      <td>Mississippi State University</td>\n",
              "      <td>Golf Pro</td>\n",
              "      <td>0</td>\n",
              "      <td>NaN</td>\n",
              "      <td>No</td>\n",
              "      <td>Brown</td>\n",
              "      <td>Green</td>\n",
              "    </tr>\n",
              "    <tr>\n",
              "      <th>...</th>\n",
              "      <td>...</td>\n",
              "      <td>...</td>\n",
              "      <td>...</td>\n",
              "      <td>...</td>\n",
              "      <td>...</td>\n",
              "      <td>...</td>\n",
              "      <td>...</td>\n",
              "      <td>...</td>\n",
              "      <td>...</td>\n",
              "      <td>...</td>\n",
              "      <td>...</td>\n",
              "      <td>...</td>\n",
              "    </tr>\n",
              "    <tr>\n",
              "      <th>136</th>\n",
              "      <td>11</td>\n",
              "      <td>David Cox</td>\n",
              "      <td>28</td>\n",
              "      <td>Orlando, Florida</td>\n",
              "      <td>FL</td>\n",
              "      <td>Other</td>\n",
              "      <td>Real Estate Agent</td>\n",
              "      <td>0</td>\n",
              "      <td>NaN</td>\n",
              "      <td>No</td>\n",
              "      <td>Brown</td>\n",
              "      <td>Brown</td>\n",
              "    </tr>\n",
              "    <tr>\n",
              "      <th>137</th>\n",
              "      <td>11</td>\n",
              "      <td>Joshua \"Josh\" Seiter</td>\n",
              "      <td>27</td>\n",
              "      <td>Chicago, Illinois</td>\n",
              "      <td>IL</td>\n",
              "      <td>Chicago-Kent College</td>\n",
              "      <td>Law Student/Exotic Dancer</td>\n",
              "      <td>0</td>\n",
              "      <td>187.96</td>\n",
              "      <td>No</td>\n",
              "      <td>Brown</td>\n",
              "      <td>Brown</td>\n",
              "    </tr>\n",
              "    <tr>\n",
              "      <th>138</th>\n",
              "      <td>11</td>\n",
              "      <td>Shawn Evans</td>\n",
              "      <td>31</td>\n",
              "      <td>London, Ontario</td>\n",
              "      <td>Other</td>\n",
              "      <td>Other</td>\n",
              "      <td>Amateur Sex Coach</td>\n",
              "      <td>0</td>\n",
              "      <td>NaN</td>\n",
              "      <td>No</td>\n",
              "      <td>Brown</td>\n",
              "      <td>Brown</td>\n",
              "    </tr>\n",
              "    <tr>\n",
              "      <th>139</th>\n",
              "      <td>11</td>\n",
              "      <td>Brady Toops</td>\n",
              "      <td>33</td>\n",
              "      <td>Wauseon, Ohio</td>\n",
              "      <td>OH</td>\n",
              "      <td>Other</td>\n",
              "      <td>Singer/Songwriter</td>\n",
              "      <td>0</td>\n",
              "      <td>187.96</td>\n",
              "      <td>No</td>\n",
              "      <td>Brown</td>\n",
              "      <td>Brown</td>\n",
              "    </tr>\n",
              "    <tr>\n",
              "      <th>140</th>\n",
              "      <td>11</td>\n",
              "      <td>Ryan McDill</td>\n",
              "      <td>28</td>\n",
              "      <td>Kansas City, Missouri</td>\n",
              "      <td>MO</td>\n",
              "      <td>Other</td>\n",
              "      <td>Junkyard Specialist</td>\n",
              "      <td>0</td>\n",
              "      <td>190.50</td>\n",
              "      <td>No</td>\n",
              "      <td>Brown</td>\n",
              "      <td>Blue</td>\n",
              "    </tr>\n",
              "  </tbody>\n",
              "</table>\n",
              "<p>141 rows × 12 columns</p>\n",
              "</div>\n",
              "      <button class=\"colab-df-convert\" onclick=\"convertToInteractive('df-251bfd5e-11a8-4751-99e5-f55698d01279')\"\n",
              "              title=\"Convert this dataframe to an interactive table.\"\n",
              "              style=\"display:none;\">\n",
              "        \n",
              "  <svg xmlns=\"http://www.w3.org/2000/svg\" height=\"24px\"viewBox=\"0 0 24 24\"\n",
              "       width=\"24px\">\n",
              "    <path d=\"M0 0h24v24H0V0z\" fill=\"none\"/>\n",
              "    <path d=\"M18.56 5.44l.94 2.06.94-2.06 2.06-.94-2.06-.94-.94-2.06-.94 2.06-2.06.94zm-11 1L8.5 8.5l.94-2.06 2.06-.94-2.06-.94L8.5 2.5l-.94 2.06-2.06.94zm10 10l.94 2.06.94-2.06 2.06-.94-2.06-.94-.94-2.06-.94 2.06-2.06.94z\"/><path d=\"M17.41 7.96l-1.37-1.37c-.4-.4-.92-.59-1.43-.59-.52 0-1.04.2-1.43.59L10.3 9.45l-7.72 7.72c-.78.78-.78 2.05 0 2.83L4 21.41c.39.39.9.59 1.41.59.51 0 1.02-.2 1.41-.59l7.78-7.78 2.81-2.81c.8-.78.8-2.07 0-2.86zM5.41 20L4 18.59l7.72-7.72 1.47 1.35L5.41 20z\"/>\n",
              "  </svg>\n",
              "      </button>\n",
              "      \n",
              "  <style>\n",
              "    .colab-df-container {\n",
              "      display:flex;\n",
              "      flex-wrap:wrap;\n",
              "      gap: 12px;\n",
              "    }\n",
              "\n",
              "    .colab-df-convert {\n",
              "      background-color: #E8F0FE;\n",
              "      border: none;\n",
              "      border-radius: 50%;\n",
              "      cursor: pointer;\n",
              "      display: none;\n",
              "      fill: #1967D2;\n",
              "      height: 32px;\n",
              "      padding: 0 0 0 0;\n",
              "      width: 32px;\n",
              "    }\n",
              "\n",
              "    .colab-df-convert:hover {\n",
              "      background-color: #E2EBFA;\n",
              "      box-shadow: 0px 1px 2px rgba(60, 64, 67, 0.3), 0px 1px 3px 1px rgba(60, 64, 67, 0.15);\n",
              "      fill: #174EA6;\n",
              "    }\n",
              "\n",
              "    [theme=dark] .colab-df-convert {\n",
              "      background-color: #3B4455;\n",
              "      fill: #D2E3FC;\n",
              "    }\n",
              "\n",
              "    [theme=dark] .colab-df-convert:hover {\n",
              "      background-color: #434B5C;\n",
              "      box-shadow: 0px 1px 3px 1px rgba(0, 0, 0, 0.15);\n",
              "      filter: drop-shadow(0px 1px 2px rgba(0, 0, 0, 0.3));\n",
              "      fill: #FFFFFF;\n",
              "    }\n",
              "  </style>\n",
              "\n",
              "      <script>\n",
              "        const buttonEl =\n",
              "          document.querySelector('#df-251bfd5e-11a8-4751-99e5-f55698d01279 button.colab-df-convert');\n",
              "        buttonEl.style.display =\n",
              "          google.colab.kernel.accessAllowed ? 'block' : 'none';\n",
              "\n",
              "        async function convertToInteractive(key) {\n",
              "          const element = document.querySelector('#df-251bfd5e-11a8-4751-99e5-f55698d01279');\n",
              "          const dataTable =\n",
              "            await google.colab.kernel.invokeFunction('convertToInteractive',\n",
              "                                                     [key], {});\n",
              "          if (!dataTable) return;\n",
              "\n",
              "          const docLinkHtml = 'Like what you see? Visit the ' +\n",
              "            '<a target=\"_blank\" href=https://colab.research.google.com/notebooks/data_table.ipynb>data table notebook</a>'\n",
              "            + ' to learn more about interactive tables.';\n",
              "          element.innerHTML = '';\n",
              "          dataTable['output_type'] = 'display_data';\n",
              "          await google.colab.output.renderOutput(dataTable, element);\n",
              "          const docLink = document.createElement('div');\n",
              "          docLink.innerHTML = docLinkHtml;\n",
              "          element.appendChild(docLink);\n",
              "        }\n",
              "      </script>\n",
              "    </div>\n",
              "  </div>\n",
              "  "
            ]
          },
          "metadata": {},
          "execution_count": 72
        }
      ]
    },
    {
      "cell_type": "code",
      "metadata": {
        "colab": {
          "base_uri": "https://localhost:8080/",
          "height": 297
        },
        "id": "OnVKaiyfHHKo",
        "outputId": "a961a591-93c3-459e-a7c4-7bc38621ef37"
      },
      "source": [
        "#Seaborn graph\n",
        "\n",
        "sns.countplot(x = 'Hair Color', data = df)"
      ],
      "execution_count": null,
      "outputs": [
        {
          "output_type": "execute_result",
          "data": {
            "text/plain": [
              "<matplotlib.axes._subplots.AxesSubplot at 0x7f24d52adf50>"
            ]
          },
          "metadata": {},
          "execution_count": 73
        },
        {
          "output_type": "display_data",
          "data": {
            "text/plain": [
              "<Figure size 432x288 with 1 Axes>"
            ],
            "image/png": "[encoded data removed]"
          },
          "metadata": {
            "needs_background": "light"
          }
        }
      ]
    },
    {
      "cell_type": "code",
      "metadata": {
        "colab": {
          "base_uri": "https://localhost:8080/",
          "height": 295
        },
        "id": "RA-CcO1muFAe",
        "outputId": "54b8164d-2872-4ab7-d43b-f32e3d4e2611"
      },
      "source": [
        "#Lets customize the graph some more\n",
        "\n",
        "sns.countplot(x = 'Hair Color', data = df)\n",
        "\n",
        "#Adds a title to our graph\n",
        "plt.title(\"Countplot of Hair Color\")\n",
        "\n",
        "#We can change the labels on the x and y axis by using .xlabel and .ylabel\n",
        "plt.ylabel(\"Count\")\n",
        "plt.xlabel(\"Contestants Hair Color\")\n",
        "\n",
        "#gets rid of the line over the graph\n",
        "plt.show()"
      ],
      "execution_count": null,
      "outputs": [
        {
          "output_type": "display_data",
          "data": {
            "text/plain": [
              "<Figure size 432x288 with 1 Axes>"
            ],
            "image/png": "[encoded data removed]"
          },
          "metadata": {
            "needs_background": "light"
          }
        }
      ]
    },
    {
      "cell_type": "code",
      "metadata": {
        "colab": {
          "base_uri": "https://localhost:8080/",
          "height": 295
        },
        "id": "NC8VqbJweGHA",
        "outputId": "4d8d6a16-46f6-4cad-c530-63dc31432acb"
      },
      "source": [
        "#As you can see, there's a bar that shows the count for each hair color, but let's add the correct\n",
        "#We can customize the color in the bars by doing this:\n",
        "\n",
        "#We could do color = \"red\" for example, but it would color both the bars as red\n",
        "sns.countplot(x = \"Hair Color\", data = df, palette = [\"brown\", \"gold\"]) \n",
        "\n",
        "plt.title(\"Countplot of Hair Color\")\n",
        "\n",
        "plt.ylabel(\"Count\")\n",
        "plt.xlabel(\"Contestants Hair Color\")\n",
        "\n",
        "plt.show()"
      ],
      "execution_count": null,
      "outputs": [
        {
          "output_type": "display_data",
          "data": {
            "text/plain": [
              "<Figure size 432x288 with 1 Axes>"
            ],
            "image/png": "[encoded data removed]"
          },
          "metadata": {
            "needs_background": "light"
          }
        }
      ]
    },
    {
      "cell_type": "code",
      "metadata": {
        "colab": {
          "base_uri": "https://localhost:8080/",
          "height": 295
        },
        "id": "yzGSz5vwhAcE",
        "outputId": "bd4f0120-dc9e-4ca6-9d6c-815e5536c19b"
      },
      "source": [
        "#Another example \n",
        "#Eye color countplot\n",
        "\n",
        "sns.countplot(x = 'Eye Color', data = df)\n",
        "\n",
        "plt.title(\"Eye Color Count\")\n",
        "\n",
        "plt.xlabel(\"Eye Colors\")\n",
        "plt.ylabel(\"Count\")\n",
        "\n",
        "plt.show()"
      ],
      "execution_count": null,
      "outputs": [
        {
          "output_type": "display_data",
          "data": {
            "text/plain": [
              "<Figure size 432x288 with 1 Axes>"
            ],
            "image/png": "[encoded data removed]"
          },
          "metadata": {
            "needs_background": "light"
          }
        }
      ]
    },
    {
      "cell_type": "code",
      "metadata": {
        "colab": {
          "base_uri": "https://localhost:8080/",
          "height": 295
        },
        "id": "0btfPQYJhAsS",
        "outputId": "1e88790f-0495-4186-ef61-e2178a07948e"
      },
      "source": [
        "#Colors of the bar don't match the bar labels, so if we want to customize the color in the bars, we do this:\n",
        "\n",
        "sns.countplot(x = 'Eye Color', data = df, palette = [\"brown\", \"green\", \"blue\"])\n",
        "\n",
        "plt.title(\"Eye color count\")\n",
        "\n",
        "plt.xlabel(\"Eye Colors\")\n",
        "plt.ylabel(\"Count\")\n",
        "\n",
        "plt.show()"
      ],
      "execution_count": null,
      "outputs": [
        {
          "output_type": "display_data",
          "data": {
            "text/plain": [
              "<Figure size 432x288 with 1 Axes>"
            ],
            "image/png": "[encoded data removed]"
          },
          "metadata": {
            "needs_background": "light"
          }
        }
      ]
    },
    {
      "cell_type": "code",
      "metadata": {
        "colab": {
          "base_uri": "https://localhost:8080/"
        },
        "id": "Xr-FsAzqepSx",
        "outputId": "7fcb1cfe-5366-45c3-e148-c12ee0c8a6e0"
      },
      "source": [
        "#Let's turn these eye color counts into percentages\n",
        "#.value_counts() gives us the number of unique values that we use it on. \n",
        "#For example:\n",
        "\n",
        "eye_color_count = df['Eye Color'].value_counts()\n",
        "print(eye_color_count)"
      ],
      "execution_count": null,
      "outputs": [
        {
          "output_type": "stream",
          "name": "stdout",
          "text": [
            "Brown    120\n",
            "Blue      14\n",
            "Green      7\n",
            "Name: Eye Color, dtype: int64\n"
          ]
        }
      ]
    },
    {
      "cell_type": "code",
      "metadata": {
        "colab": {
          "base_uri": "https://localhost:8080/"
        },
        "id": "yERkwcBHf4SO",
        "outputId": "346a2f0a-aa50-482f-a3e1-e54e7d2b8c7c"
      },
      "source": [
        "#normalize is an attribute of .value_counts. If it's True then the object returned will contain the relative frequencies of the unique values.\n",
        "\n",
        "eye_color_count = df['Eye Color'].value_counts(normalize = True)\n",
        "print(eye_color_count)"
      ],
      "execution_count": null,
      "outputs": [
        {
          "output_type": "stream",
          "name": "stdout",
          "text": [
            "Brown    0.851064\n",
            "Blue     0.099291\n",
            "Green    0.049645\n",
            "Name: Eye Color, dtype: float64\n"
          ]
        }
      ]
    },
    {
      "cell_type": "code",
      "metadata": {
        "colab": {
          "base_uri": "https://localhost:8080/"
        },
        "id": "XrQB5bfTf67o",
        "outputId": "eb054589-846e-41a5-aa73-e1ebd6aa8698"
      },
      "source": [
        "#If we multiply this by 100, then we'll be able to get percentages\n",
        "#So, the percentages of the eye colors are:\n",
        "\n",
        "print(eye_color_count*100)"
      ],
      "execution_count": null,
      "outputs": [
        {
          "output_type": "stream",
          "name": "stdout",
          "text": [
            "Brown    85.106383\n",
            "Blue      9.929078\n",
            "Green     4.964539\n",
            "Name: Eye Color, dtype: float64\n"
          ]
        }
      ]
    },
    {
      "cell_type": "code",
      "metadata": {
        "colab": {
          "base_uri": "https://localhost:8080/",
          "height": 264
        },
        "id": "EkMYysiof7CW",
        "outputId": "ea456c25-d563-45ce-97ef-36a36abea4d7"
      },
      "source": [
        "#Lets use these percentages and make a pie chart\n",
        "\n",
        "#we make an array using numpy and we make the values the percentages of eye color counts\n",
        "eye_array = np.array([85.106, 9.929, 4.965])\n",
        "\n",
        "#We make a list of the labels we want to use in the pie chart.\n",
        "mylabels = [\"Brown\", \"Blue\", \"Green\"]\n",
        "\n",
        "#This colors the values in the array\n",
        "mycolors = [\"Brown\", \"Blue\", \"Green\"]\n",
        "\n",
        "plt.title(\"Eye Color Pie Chart\")\n",
        "\n",
        "plt.pie(eye_array, labels = mylabels, colors = mycolors)\n",
        "plt.show() "
      ],
      "execution_count": null,
      "outputs": [
        {
          "output_type": "display_data",
          "data": {
            "text/plain": [
              "<Figure size 432x288 with 1 Axes>"
            ],
            "image/png": "[encoded data removed]"
          },
          "metadata": {}
        }
      ]
    },
    {
      "cell_type": "code",
      "metadata": {
        "colab": {
          "base_uri": "https://localhost:8080/",
          "height": 295
        },
        "id": "-gTtCCAzGdSi",
        "outputId": "429adffb-73e0-493c-ef39-d74b4ba00ef1"
      },
      "source": [
        "#Countplot of the states the contestants are from\n",
        "\n",
        "sns.countplot(x = 'State', data = df)\n",
        "\n",
        "plt.title(\"Countplot of States\")\n",
        "\n",
        "plt.xlabel(\"Ages\")\n",
        "plt.ylabel(\"Count\")\n",
        "\n",
        "plt.show()"
      ],
      "execution_count": null,
      "outputs": [
        {
          "output_type": "display_data",
          "data": {
            "text/plain": [
              "<Figure size 432x288 with 1 Axes>"
            ],
            "image/png": "[encoded data removed]"
          },
          "metadata": {
            "needs_background": "light"
          }
        }
      ]
    },
    {
      "cell_type": "code",
      "metadata": {
        "colab": {
          "base_uri": "https://localhost:8080/",
          "height": 392
        },
        "id": "WjHDRLqIdQHR",
        "outputId": "d5e99060-4ae8-4ae6-f422-f9f743ef6b17"
      },
      "source": [
        "#We can change the size of the graph in order to see the xaxis clearly\n",
        "\n",
        "#This lets us change the size of the graph. Have to put the code before you call the graph. figsize takes two paramaters (width and height in inches. dpi refers to the resolution of the figure in dots-per-inch\n",
        "plt.figure(figsize = (14,3), dpi= 120) \n",
        "\n",
        "sns.countplot(x = 'State', data = df)\n",
        "\n",
        "plt.title(\"Countplot of States\")\n",
        "\n",
        "plt.xlabel(\"States\")\n",
        "plt.ylabel(\"Ages\")\n",
        "\n",
        "plt.show()"
      ],
      "execution_count": null,
      "outputs": [
        {
          "output_type": "display_data",
          "data": {
            "text/plain": [
              "<Figure size 1680x360 with 1 Axes>"
            ],
            "image/png": "[encoded data removed]"
          },
          "metadata": {
            "needs_background": "light"
          }
        }
      ]
    },
    {
      "cell_type": "code",
      "metadata": {
        "id": "o9Br_WwqUOVZ",
        "colab": {
          "base_uri": "https://localhost:8080/",
          "height": 295
        },
        "outputId": "bcf8b61a-7b5a-4c33-a5ca-5c36a2712fc5"
      },
      "source": [
        "#Let's make a histogram using matplotlib and manipulate it a little bit\n",
        "\n",
        "#we'll make a variable called height\n",
        "height = df['Height (cm)']\n",
        "\n",
        "height.plot(kind = \"hist\")\n",
        "\n",
        "plt.title(\"Height (in centimeters)\")\n",
        "\n",
        "plt.ylabel(\"Frequency of contestants\")\n",
        "\n",
        "plt.xlabel(\"Centimeters\")\n",
        "\n",
        "plt.show()"
      ],
      "execution_count": null,
      "outputs": [
        {
          "output_type": "display_data",
          "data": {
            "text/plain": [
              "<Figure size 432x288 with 1 Axes>"
            ],
            "image/png": "[encoded data removed]"
          },
          "metadata": {
            "needs_background": "light"
          }
        }
      ]
    },
    {
      "cell_type": "code",
      "metadata": {
        "id": "9rhOxq_PUOYo",
        "colab": {
          "base_uri": "https://localhost:8080/",
          "height": 346
        },
        "outputId": "d497462e-b3ba-45a9-cee1-9c209f0695f4"
      },
      "source": [
        "#Lets turn the centimeters into feet. We need to multiply the cm by 0.032808 in order to get feet.\n",
        "\n",
        "#This will multiply every height by 0.032808 \n",
        "new_height = df['Height (cm)'] * 0.032808\n",
        "\n",
        "#Let's adjust the size\n",
        "plt.figure(figsize = (5, 2.5), dpi= 120) \n",
        "\n",
        "#now the plot will show the height in feet\n",
        "new_height.plot(kind = \"hist\", color = \"purple\")\n",
        "\n",
        "plt.title(\"Height (in feet)\")\n",
        "\n",
        "plt.ylabel(\"Frequency of contestants\")\n",
        "\n",
        "plt.xlabel(\"Feet\")\n",
        "\n",
        "plt.show()"
      ],
      "execution_count": null,
      "outputs": [
        {
          "output_type": "display_data",
          "data": {
            "text/plain": [
              "<Figure size 600x300 with 1 Axes>"
            ],
            "image/png": "[encoded data removed]"
          },
          "metadata": {
            "needs_background": "light"
          }
        }
      ]
    },
    {
      "cell_type": "markdown",
      "metadata": {
        "id": "IvpX_v7_3C2i"
      },
      "source": [
        "#Thank you for joining our Python Data Visualization Workshop!!\n"
      ]
    }
  ]
}